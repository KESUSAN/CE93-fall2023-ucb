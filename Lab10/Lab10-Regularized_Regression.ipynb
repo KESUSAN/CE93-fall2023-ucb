{
 "cells": [
  {
   "cell_type": "markdown",
   "id": "moderate-invention",
   "metadata": {},
   "source": [
    "# CE 93: Engineering Data Analysis\n",
    "# Lab 10: Regularized Regression"
   ]
  },
  {
   "cell_type": "markdown",
   "id": "italian-shooting",
   "metadata": {},
   "source": [
    "**Full Name:** *replace text here*"
   ]
  },
  {
   "cell_type": "markdown",
   "id": "prerequisite-person",
   "metadata": {},
   "source": [
    "## Instructions \n",
    "\n",
    "Welcome to Lab 10! \n",
    "\n",
    "Please save your work after every question! At the end, you will have to submit your Jupyter Notebook as a PDF file in the bCourses quiz. The notebook should be consistent with your quiz answers. Not submitting a PDF file will result in a grade of 0 on the lab assignment. You will also receive a 0 if your answers to the quiz are inconsistent with your PDF.\n",
    "\n",
    "If you see cells with \"...\" make sure to replace the \"...\" with your code even if they are not listed with a \"Question\". \n",
    "Please remember to label all axes with the quantity and units being plotted. \n",
    "\n",
    "Any part listed as a \"<font color='red'>**Question**</font>\" should be answered in the bCourses quiz to receive credit."
   ]
  },
  {
   "cell_type": "markdown",
   "id": "5f026ba8",
   "metadata": {},
   "source": [
    "We will use the following Python packages:\n",
    "\n",
    "* NumPy\n",
    "* MatPlotLib\n",
    "* pandas\n",
    "* sklearn\n",
    "* statsmodels.api\n",
    "* random"
   ]
  },
  {
   "cell_type": "markdown",
   "id": "c6f67203",
   "metadata": {},
   "source": [
    "## Load the required libraries \n",
    "\n",
    "The following code loads the required libraries. Run this cell first."
   ]
  },
  {
   "cell_type": "code",
   "execution_count": 27,
   "id": "tired-christian",
   "metadata": {
    "execution": {
     "iopub.execute_input": "2023-11-28T09:17:19.530113Z",
     "iopub.status.busy": "2023-11-28T09:17:19.529634Z",
     "iopub.status.idle": "2023-11-28T09:17:19.535975Z",
     "shell.execute_reply": "2023-11-28T09:17:19.534665Z",
     "shell.execute_reply.started": "2023-11-28T09:17:19.530081Z"
    }
   },
   "outputs": [],
   "source": [
    "# import python library / packages \n",
    "import numpy as np                                 \n",
    "import matplotlib.pyplot as plt                    \n",
    "import pandas as pd                               \n",
    "from sklearn.linear_model import LinearRegression,Ridge, Lasso  \n",
    "from sklearn.model_selection import train_test_split,cross_val_score\n",
    "from sklearn.metrics import make_scorer, mean_squared_error, mean_absolute_error\n",
    "import statsmodels.api as sm                       \n",
    "import random                                     "
   ]
  },
  {
   "cell_type": "markdown",
   "id": "geographic-violin",
   "metadata": {},
   "source": [
    "## About this Lab\n",
    "\n",
    "**Objective:**\n",
    "In this lab, we delve into the realm of regularized regression using Python. Our goal is to develop models that can accurately predict house prices based on various features.\n",
    "\n",
    "**Dataset Overview:**\n",
    "We'll be working with a dataset detailing house sales in Windsor, Canada, specifically focusing on transactions from July to September 1987. This dataset encompasses 546 houses, providing a rich basis for our analysis.\n",
    "\n",
    "**Lab Tasks:**\n",
    "Throughout this lab, you will:\n",
    "\n",
    "- Explore the influence of different factors on house prices.\n",
    "- Implement and compare simple linear regression with regularized regression models (Lasso and Ridge).\n",
    "- Utilize cross-validation techniques to find the optimal regularization parameter for both Lasso and Ridge regression.\n",
    "- Determine which model most effectively predicts house prices, backed by data-driven insights.\n",
    "\n",
    "**Learning Outcomes:** \n",
    "By the end of this lab, you will gain hands-on experience in:\n",
    "- Building, fitting, and evaluating regression models.\n",
    "- Understanding the intricacies of regularized regression and its practical applications.\n",
    "- Harnessing cross-validation to enhance model performance.\n",
    "- Drawing meaningful inferences about variable relationships in the context of real estate pricing.\n"
   ]
  },
  {
   "cell_type": "markdown",
   "id": "06be2cac",
   "metadata": {},
   "source": [
    "## Sales Prices of Houses in the City of Windsor\n",
    "\n",
    "The dataset you will be using to analyze house price is named \"**1987_Housing_Price_dataset.csv**\".\n",
    "    \n",
    "Let's load the provided data set `1987_Housing_Price_dataset.csv`. \n",
    "\n",
    "* load using the Pandas `pd.read_csv()` function. Drop the 1st column (i.e., `Unnamed: 0`)\n",
    "\n",
    "\n",
    "|Variable|Type|Explanation|\n",
    "|:-|:-|:-|\n",
    "|price|float|sale price of a house|\n",
    "|lotsize|float|the lot size of a property in square feet|\n",
    "|bedrooms|integer|number of bedrooms|\n",
    "|bathrms|integer|number of full bathrooms|\n",
    "|stories|integer|number of stories excluding basement|\n",
    "|driveway|categorical|does the house have a driveway? (yes/no)|\n",
    "|recroom|categorical|does the house have a recreational room? (yes/no)|\n",
    "|fullbase|categorical |does the house have a full finished basement? (yes/no)|\n",
    "|gashw|categorical |does the house use gas for hot water heating? (yes/no)|\n",
    "|airco|categorical |does the house have central air conditioning? (yes/no)|\n",
    "|garagepl|integer|number of garage places|\n",
    "|prefarea|categorical |is the house located in the preferred neighbourhood of the city? (yes/no)|\n",
    "\n",
    "You will work with all the variables in this lab."
   ]
  },
  {
   "cell_type": "code",
   "execution_count": null,
   "id": "8bf2d943-369d-40fb-aa8e-1649488ba29a",
   "metadata": {
    "execution": {
     "iopub.execute_input": "2023-11-28T11:23:06.778673Z",
     "iopub.status.busy": "2023-11-28T11:23:06.778243Z",
     "iopub.status.idle": "2023-11-28T11:23:06.929948Z",
     "shell.execute_reply": "2023-11-28T11:23:06.928676Z",
     "shell.execute_reply.started": "2023-11-28T11:23:06.778642Z"
    }
   },
   "outputs": [],
   "source": [
    "# edit the code cell below to read the .csv file and print the first few rows of the data set. \n",
    "# If you do not know how to do this, refer to previous labs\n",
    "\n",
    "# read a .csv file in as a DataFrame\n",
    "df_raw = ...\n",
    "df_raw = df_raw.drop(...)\n",
    "\n",
    "# return the first 5 rows of the data set by default\n",
    "..."
   ]
  },
  {
   "cell_type": "markdown",
   "id": "accepted-tribune",
   "metadata": {},
   "source": [
    "## Data Exploration\n",
    "\n",
    "We first check target variable house price (`price`) distribution. Add your code below to take the relevant column from the DataFrame you loaded above and save it as `house_price`.\n",
    "\n",
    "<font color='red'>**Question 1.**</font> Create a **horizontal** box plot (i.e., everything is drawn horizontally) of `house_price` and calculate the skewness. What observations can you make based on the scatter plot? Select your answer(s) from the options in bCourses.\n",
    "\n",
    "* Use the skew function from scipy.stats to calculate this(import the function by yourself) [here](https://docs.scipy.org/doc/scipy/reference/generated/scipy.stats.skew.html)\n",
    "* Use plt.boxplot [here](https://matplotlib.org/3.1.1/api/_as_gen/matplotlib.pyplot.boxplot.html)"
   ]
  },
  {
   "cell_type": "code",
   "execution_count": null,
   "id": "0b9e8aad-1fed-4664-ac6a-074b45a73eff",
   "metadata": {
    "execution": {
     "iopub.execute_input": "2023-11-28T11:00:33.632631Z",
     "iopub.status.busy": "2023-11-28T11:00:33.632192Z",
     "iopub.status.idle": "2023-11-28T11:00:33.953663Z",
     "shell.execute_reply": "2023-11-28T11:00:33.951935Z",
     "shell.execute_reply.started": "2023-11-28T11:00:33.632597Z"
    }
   },
   "outputs": [],
   "source": [
    "# create variables\n",
    "# replace ... with your code\n",
    "house_price = ...\n",
    "\n",
    "# calculate the skewness\n",
    "...\n",
    "\n",
    "# create box plot\n",
    "..."
   ]
  },
  {
   "cell_type": "markdown",
   "id": "cdc229fa-ae5d-4fc6-8c02-2eff551d7426",
   "metadata": {},
   "source": [
    "Given the skewness observed in the `house_price` distribution, it's often beneficial to apply a transformation to reduce this skewness, especially when preparing data for linear regression models. A common technique is the logarithmic transformation.\n",
    "\n",
    "Why **log(x+1)** Transformation?\n",
    "\n",
    "- The logarithmic transformation, specifically **log(x + 1)**, helps in stabilizing the variance, normalizing the distribution, and reducing the effects of the outliers.\n",
    "- The **+1** ensures that we don't take the logarithm of zero (as log(0) is undefined).\n",
    "- This transformation is particularly useful when dealing with right-skewed data (where the tail on the right side of the distribution is longer or fatter than the left side).\n",
    "\n",
    "Let’s transform the `house_price` using **log(x + 1)** and save it as log_price:Save the new variable as `log_price`.\n",
    "\n",
    "<font color='red'>**Question 2.**</font> visualize the distributions of both `house_price` and `log_price` using histograms and Q-Q plots. What observations can you make based on the scatter plot? Select your answer(s) from the options in bCourses.\n",
    "- Histograms will show the frequency distribution of the variables.\n",
    "- Q-Q (Quantile-Quantile) plots will allow us to assess if the data follows a normal distribution. Points lying on the line in a Q-Q plot indicate that the data is normally distributed. Refer to Lab06 code for Q-Q plot if needed."
   ]
  },
  {
   "cell_type": "code",
   "execution_count": null,
   "id": "7d33d85c-cbe4-4643-bf16-b11be5216950",
   "metadata": {
    "execution": {
     "iopub.execute_input": "2023-11-28T11:24:13.864102Z",
     "iopub.status.busy": "2023-11-28T11:24:13.863622Z",
     "iopub.status.idle": "2023-11-28T11:24:13.874998Z",
     "shell.execute_reply": "2023-11-28T11:24:13.873417Z",
     "shell.execute_reply.started": "2023-11-28T11:24:13.864058Z"
    }
   },
   "outputs": [],
   "source": [
    "log_price = ...\n",
    "\n",
    "# plot histgram and Q-Q plot for house_price\n",
    "...\n",
    "\n",
    "# plot histgram and Q-Q plot for log_price\n",
    "..."
   ]
  },
  {
   "cell_type": "markdown",
   "id": "0d76c278",
   "metadata": {},
   "source": [
    "## Regression modeling\n",
    "\n",
    "We will use the `scikit-learn` package to perform regression. There are other packages as well, but this is one of the most commonly used packages and is also a widely used Python library for machine learning, built on top of NumPy and some other packages. You will specifically use the class `sklearn.linear_model.LinearRegression`,`sklearn.linear_model.Lasso` and `sklearn.linear_model.Ridge` to perform linear and regularized regressions. You already loaded this class in the first code cell.\n",
    "\n"
   ]
  },
  {
   "cell_type": "markdown",
   "id": "39a440f7-245e-4d99-ab86-9d03144c0c22",
   "metadata": {},
   "source": [
    "#### Review of regularized regression\n",
    "We briefly review the idea of regularization as introduced in lecture. Recall that in the ordinary least squares problem we find the regression coefficients $\\boldsymbol{\\beta} \\in \\mathbb{R}^m$ that minimize the loss function\n",
    "\n",
    "$$\n",
    "L(\\boldsymbol{\\beta}) = \\frac{1}{n} \\sum_{i=1}^{n} \\left| y_i - \\boldsymbol{\\beta}^T \\mathbf{x}_i \\right|^2.\n",
    "$$\n",
    "\n",
    "Recall that we have $n$ observations. Here, $y_i$ is the response variable for observation $i$ and $\\mathbf{x}_i \\in \\mathbb{R}^m$ is a vector from the predictor matrix corresponding to observation $i$.\n",
    "\n",
    "The general idea behind regularization is to penalize the loss function to account for possibly very large values of the coefficients $\\boldsymbol{\\beta}$. Instead of minimizing $L(\\boldsymbol{\\beta})$, we minimize the regularized loss function\n",
    "\n",
    "$$\n",
    "L_{\\text{reg}}(\\boldsymbol{\\beta}) = L(\\boldsymbol{\\beta}) + \\lambda R(\\boldsymbol{\\beta})\n",
    "$$\n",
    "\n",
    "where $R(\\boldsymbol{\\beta})$ is a penalty function and $\\lambda$ is a scalar that weighs the relative importance of this penalty. In this lab we will explore one regularized regression model: *ridge regression*. In ridge regression, the penalty function is the sum of the squares of the parameters, which is written as\n",
    "\n",
    "$$\n",
    "L_{\\text{ridge}}(\\boldsymbol{\\beta}) = \\frac{1}{n} \\sum_{i=1}^{n} \\left| y_i - \\boldsymbol{\\beta}^T \\mathbf{x}_i \\right|^2 + \\lambda \\sum_{j=1}^{m} \\beta_j^2.\n",
    "$$\n",
    "\n",
    "In lecture, you also learned about *LASSO regression* in which the penalty function is the sum of the absolute values of the parameters. This is written as,\n",
    "\n",
    "$$\n",
    "L_{\\text{LASSO}}(\\boldsymbol{\\beta}) = \\frac{1}{n} \\sum_{i=1}^{n} \\left| y_i - \\boldsymbol{\\beta}^T \\mathbf{x}_i \\right|^2 + \\lambda \\sum_{j=1}^{m} |\\beta_j|.\n",
    "$$\n",
    "\n",
    "In this lab, we will show how these optimization problems can be solved with `sklearn` to determine the model parameters $\\boldsymbol{\\beta}$. We will also show how to choose $\\lambda$ appropriately via cross-validation.\n"
   ]
  },
  {
   "cell_type": "markdown",
   "id": "ef254593-ee5a-4fb9-be40-38d77df0866e",
   "metadata": {},
   "source": [
    "### Step 1: Data Processing\n",
    "\n",
    "Proper data formatting is crucial before we begin our regression analysis. To prepare our dataset, we need to follow these steps:\n",
    "\n",
    "1. **Check for Missing Values:**  \n",
    "   Ensure there are no missing values in our dataset that could skew our analysis. Handle any missing data appropriately, either by imputation or by removing the affected records.\n",
    "\n",
    "2. **Encode Categorical Variables:**  \n",
    "   Convert categorical features into one-hot numeric features, also known as dummy variables. This step is essential for models that only accept numerical input.\n",
    "\n",
    "3. **Prepare Feature Matrix:**  \n",
    "   Remove the outcome variable (`price`) and any original categorical columns that have been one-hot encoded to prevent redundancy in our feature matrix. Also remove the the dummy variables after one-hot encoded for `xxx_no` type (e.g. `'driveway_no'`)\n",
    "\n",
    "4. **Create Labels:**  \n",
    "   Generate our label vector `y` by applying the `log(x+1)` transformation to the `price` column, resulting in `log_price`. This will be our target variable for regression models.\n",
    "\n",
    "<font color='red'>**Question 3.**</font> Does there exist any missing value in any variable? How many variables in the dataframe after the one-hot encodeing in substep 2? Select your answer(s) from the options in bCourses.\n",
    "\n",
    "Execute the following Python code cell to complete the data processing steps:"
   ]
  },
  {
   "cell_type": "code",
   "execution_count": null,
   "id": "5039ad82-ea94-4dbf-8fbe-e4cf9268e53f",
   "metadata": {
    "execution": {
     "iopub.execute_input": "2023-11-28T09:43:36.303597Z",
     "iopub.status.busy": "2023-11-28T09:43:36.302911Z",
     "iopub.status.idle": "2023-11-28T09:43:36.314554Z",
     "shell.execute_reply": "2023-11-28T09:43:36.312995Z",
     "shell.execute_reply.started": "2023-11-28T09:43:36.303566Z"
    }
   },
   "outputs": [],
   "source": [
    "'''\n",
    "1. Check whether there exists missing value\n",
    "'''\n",
    "# dataframe.isnull().sum(): https://pandas.pydata.org/docs/reference/api/pandas.isnull.html\n",
    "\n",
    "..."
   ]
  },
  {
   "cell_type": "code",
   "execution_count": null,
   "id": "b1ba13dc-cac0-4114-84ce-99eab83a8700",
   "metadata": {
    "execution": {
     "iopub.execute_input": "2023-11-28T11:24:53.737070Z",
     "iopub.status.busy": "2023-11-28T11:24:53.736635Z",
     "iopub.status.idle": "2023-11-28T11:24:53.743859Z",
     "shell.execute_reply": "2023-11-28T11:24:53.742870Z",
     "shell.execute_reply.started": "2023-11-28T11:24:53.737037Z"
    }
   },
   "outputs": [],
   "source": [
    "'''\n",
    "2. Encode our categorical features as one-hot numeric features (dummy variables)\n",
    "'''\n",
    "# example function:\n",
    "# categorical_features = ['driveway', 'recroom', ...] # Add all categorical feature names\n",
    "# data = pd.get_dummies(dataframe, columns=categorical_features)\n",
    "\n",
    "# dictionary link: https://pandas.pydata.org/docs/reference/api/pandas.get_dummies.html\n",
    "\n",
    "categorical_features = ...\n",
    "data = ... "
   ]
  },
  {
   "cell_type": "code",
   "execution_count": null,
   "id": "c5b17dda-c1bb-4f72-a529-615c147423f2",
   "metadata": {
    "execution": {
     "iopub.execute_input": "2023-11-28T18:25:44.596303Z",
     "iopub.status.busy": "2023-11-28T18:25:44.595460Z",
     "iopub.status.idle": "2023-11-28T18:25:44.645183Z",
     "shell.execute_reply": "2023-11-28T18:25:44.642645Z",
     "shell.execute_reply.started": "2023-11-28T18:25:44.596200Z"
    }
   },
   "outputs": [],
   "source": [
    "'''\n",
    "3. Drop the column with the outcome variable (`price` ), and categorical columns for which we already created dummy variables\n",
    "4. create our label y `log_price` \n",
    "'''\n",
    "# Remove the redundant variables; Separate the feature matrix (X) and target vector (y)\n",
    "drop_var_lst = [...]\n",
    "X = data.drop(drop_var_lst, axis=1)\n",
    "y = ..."
   ]
  },
  {
   "cell_type": "markdown",
   "id": "f083e180-5655-4ac8-a796-1fdc3bd02839",
   "metadata": {},
   "source": [
    "### Step 2: Split Data\n",
    "\n",
    "Once our dataset is properly formatted, the next step is to divide it into a training set and a test set. This is a critical part of model validation, allowing us to assess the model's performance on unseen data, thus gauging its generalization ability.\n",
    "\n",
    "**Why Split the Data?**\n",
    "- **Training Set:** Used to fit and train the model. It's the data that the algorithm uses to learn the relationship between features and the target variable.\n",
    "- **Test Set:** Used to evaluate the model's predictions. It acts as a new set of data for the model and helps provide an unbiased evaluation.\n",
    "\n",
    "We will allocate the first 90% of the data for training and the remaining 10% for testing. This ratio ensures that we have sufficient data to train our model while still having enough data points to test its predictions. \n",
    "\n",
    "To perform the split, we'll use the `train_test_split` function from `sklearn.model_selection` [here](https://scikit-learn.org/stable/modules/generated/sklearn.model_selection.train_test_split.html)\n",
    "\n",
    "- ensuring reproducibility by setting a random state: **`random_state=36`**\n",
    "\n",
    "<font color='red'>**Question 4.**</font> Calculate the standard deviation of y_train and y_test. Select your answer(s) from the options in bCourses.\n",
    "\n",
    "Here's the Python code to split the dataset:\n"
   ]
  },
  {
   "cell_type": "code",
   "execution_count": null,
   "id": "7ea41a2b-fbd7-4e64-970c-1e914ea14db7",
   "metadata": {
    "execution": {
     "iopub.execute_input": "2023-11-28T10:13:48.489410Z",
     "iopub.status.busy": "2023-11-28T10:13:48.488884Z",
     "iopub.status.idle": "2023-11-28T10:13:48.498909Z",
     "shell.execute_reply": "2023-11-28T10:13:48.497659Z",
     "shell.execute_reply.started": "2023-11-28T10:13:48.489375Z"
    }
   },
   "outputs": [],
   "source": [
    "X_train, X_test, y_train, y_test = train_test_split(\n",
    "                                                    ...\n",
    "                                                    )\n",
    "# Calculate the standard deviation for y_train and y_test\n",
    "...\n",
    "\n",
    "# Output the standard deviations\n",
    "print(f\"Standard Deviation of y_train: {...}\")\n",
    "print(f\"Standard Deviation of y_test: {...}\")"
   ]
  },
  {
   "cell_type": "markdown",
   "id": "9a031f7a-fd69-433f-a19b-4061e3f4c0af",
   "metadata": {},
   "source": [
    "### Step 3: Standardization of Numerical Features\n",
    "The effectiveness of Lasso regression, as with many other predictive models, is heightened when all numerical features are normalized. This means that each feature should have a mean of zero and a similar variance. Without standardization, features with larger variances can disproportionately influence the model, potentially overshadowing more subtle yet important patterns.\n",
    "\n",
    "**Why Standardize?**\n",
    "\n",
    "- **Centering**: Subtracting the mean from each observation ensures that the features are centered around zero.\n",
    "- **Scaling**: Dividing by the standard deviation scales the features so that they have unit variance.\n",
    "This process produces what is known as a z-score, which represents the distance of an observation from the mean in terms of standard deviations. The formula for calculating the z-score of an observation $x$ is given by:\n",
    "\n",
    "$$z=\\frac{x-\\bar{x}}{s}$$\n",
    " \n",
    "where:\n",
    "\n",
    "* $x$ is an individual observation.\n",
    "* $\\bar{x}$ is the mean of the feature.\n",
    "* $s$ is the standard deviation of the feature.\n",
    "\n",
    "**Important Notes**\n",
    "* Data Leakage: standardization should be conducted post-split, using only the training data to avoid data leakage. This means the mean and standard deviation used for scaling should be derived from the training set only and then applied to the test set.\n",
    "* We do not standardize categorical variables, especially not dummy variables (which only take on the values of 0 or 1), as this would not be meaningful.\n",
    "\n",
    "Here we will \n",
    "1. Method 1: Manual Standardization. This method involves manually calculating the mean and standard deviation and applying the standardization formula. Use copty of X_train and X_test in this method. (`X_train_1 = X_train.copy()`; `X_test_1 = X_test.copy()`)\n",
    "2. Method 2: Using `StandardScaler` from `sklearn.preprocessing`.The `StandardScaler` ([here](https://scikit-learn.org/stable/modules/generated/sklearn.preprocessing.StandardScaler.html)) automates the standardization process and ensures that it's done correctly and efficiently. We will use the standardized `X_train` and `X_test` from Method 2 for the ongoing model training. \n",
    "\n",
    "   <font color='red'>**Question 5.**</font> What are the values of mean and std of variables `lotsize` and `garagepl` in **test set** after standardization in method 1. Are the results from method 1 consistent with method 2 in general? Select your answer(s) from the options in bCourses.\n",
    "   * use `DaraFrame.describe()` to check the statistics \n",
    "   "
   ]
  },
  {
   "cell_type": "code",
   "execution_count": null,
   "id": "6c0aa21f-3e9c-4eff-b466-be1ed8e71f02",
   "metadata": {
    "execution": {
     "iopub.execute_input": "2023-11-28T10:16:44.040347Z",
     "iopub.status.busy": "2023-11-28T10:16:44.039703Z",
     "iopub.status.idle": "2023-11-28T10:16:44.068736Z",
     "shell.execute_reply": "2023-11-28T10:16:44.067720Z",
     "shell.execute_reply.started": "2023-11-28T10:16:44.040316Z"
    }
   },
   "outputs": [],
   "source": [
    "'''\n",
    "Method 1: \n",
    "'''\n",
    "numerical_features_lst = [...]\n",
    "X_train_1 = X_train.copy()\n",
    "X_test_1 = X_test.copy()\n",
    "\n",
    "train_mean = ...\n",
    "train_std = ...\n",
    "X_train_1[numerical_features_lst]= ...\n",
    "X_train_1[numerical_features_lst].describe()"
   ]
  },
  {
   "cell_type": "code",
   "execution_count": null,
   "id": "0e752399-1e3e-4a50-afe1-37d96d618a18",
   "metadata": {
    "execution": {
     "iopub.execute_input": "2023-11-28T10:16:45.083543Z",
     "iopub.status.busy": "2023-11-28T10:16:45.082925Z",
     "iopub.status.idle": "2023-11-28T10:16:45.143509Z",
     "shell.execute_reply": "2023-11-28T10:16:45.141029Z",
     "shell.execute_reply.started": "2023-11-28T10:16:45.083512Z"
    }
   },
   "outputs": [],
   "source": [
    "X_test_1[numerical_features_lst]= ...\n",
    "X_test_1[numerical_features_lst].describe()"
   ]
  },
  {
   "cell_type": "code",
   "execution_count": 81,
   "id": "75de9085-eee8-42de-bbbe-e3de5380e176",
   "metadata": {
    "execution": {
     "iopub.execute_input": "2023-11-28T10:16:46.139126Z",
     "iopub.status.busy": "2023-11-28T10:16:46.138579Z",
     "iopub.status.idle": "2023-11-28T10:16:46.154496Z",
     "shell.execute_reply": "2023-11-28T10:16:46.153043Z",
     "shell.execute_reply.started": "2023-11-28T10:16:46.139091Z"
    }
   },
   "outputs": [],
   "source": [
    "'''\n",
    "Method 2: \n",
    "(make sure you only run this cell once)\n",
    "'''\n",
    "from sklearn.preprocessing import StandardScaler\n",
    "\n",
    "scaler = StandardScaler().fit(...) \n",
    "\n",
    "X_train[numerical_features] = scaler.transform(X_train[numerical_features])\n",
    "X_test[numerical_features] = ..."
   ]
  },
  {
   "cell_type": "markdown",
   "id": "c24a2274-153f-4411-85ac-65720d7fcb67",
   "metadata": {},
   "source": [
    "### Step 4.1: Fit Linear Regression\n",
    "\n",
    "Next, we'll build a linear regression model to understand the relationship between our predictors and the target variable. For this, we'll use the `statsmodels` library, which provides extensive statistical modeling options.\n",
    "\n",
    "**Building the Model with `statsmodels`:**\n",
    "\n",
    "`statsmodels` does not include an intercept in its regression models by default. In many cases, including an intercept is essential for a linear regression model to provide an accurate prediction when all predictors are equal to zero. Here's how to include an intercept and fit the model using `statsmodels`: if you are trying to perform a linear regression between `x` and `y`, you should follow these steps:\n",
    "1. `x2 = sm.add_constant(x) # to include intercept in regression`\n",
    "2. `model2 = sm.OLS(y,x2)`\n",
    "3. `model2.summary()`\n",
    "4. `model2.predict(x2)`\n",
    "\n",
    "**Evaluate the Model:**\n",
    "\n",
    "<font color='red'>**Question 6.**</font> Once you have fitted the model and made predictions, it's time to evaluate its performance. Calculate the Root Mean Squared Error (RMSE), and Mean Absolute Error (MAE) for both the training and test sets. These metrics will help you understand the average magnitude of errors in your predictions. Select your answer(s) from the options in bCourses.\n",
    " * use `mean_squared_error`, `mean_absolute_error` functions from `sklearn.metrics`"
   ]
  },
  {
   "cell_type": "code",
   "execution_count": null,
   "id": "99dae49c-5832-40fb-82ab-701b99cce43d",
   "metadata": {
    "execution": {
     "iopub.execute_input": "2023-11-28T10:23:19.188976Z",
     "iopub.status.busy": "2023-11-28T10:23:19.188523Z",
     "iopub.status.idle": "2023-11-28T10:23:19.339698Z",
     "shell.execute_reply": "2023-11-28T10:23:19.337738Z",
     "shell.execute_reply.started": "2023-11-28T10:23:19.188938Z"
    }
   },
   "outputs": [],
   "source": [
    "# add your code here\n",
    "..."
   ]
  },
  {
   "cell_type": "code",
   "execution_count": null,
   "id": "2be960a5-2d75-4ba4-9589-7209b6e299a2",
   "metadata": {
    "execution": {
     "iopub.execute_input": "2023-11-28T10:29:56.200022Z",
     "iopub.status.busy": "2023-11-28T10:29:56.199621Z",
     "iopub.status.idle": "2023-11-28T10:29:56.225867Z",
     "shell.execute_reply": "2023-11-28T10:29:56.224623Z",
     "shell.execute_reply.started": "2023-11-28T10:29:56.199991Z"
    }
   },
   "outputs": [],
   "source": [
    "y_fit =  ...\n",
    "y_predict= ...\n",
    "\n",
    "print('RMSE train:', mean_squared_error(y_train, y_fit, squared = False))\n",
    "print('RMSE test:', mean_squared_error(y_test, y_predict, squared = False))\n",
    "print('MAE train:', mean_absolute_error(y_train, y_fit))\n",
    "print('MAE test:', mean_absolute_error(y_test, y_predict))"
   ]
  },
  {
   "cell_type": "markdown",
   "id": "390c8af8-2b1c-4137-9b42-6c801d41b205",
   "metadata": {},
   "source": [
    "### Step 4.2: Fit Ridge Regression\n",
    "\n",
    "Now, let's move on to Ridge regression, which is a type of regularized linear regression that includes a regularization parameter $\\alpha$ to prevent overfitting. This parameter controls the magnitude of the penalty term added to the loss function and helps in dealing with multicollinearity by allowing for some bias in exchange for a lower variance in the prediction.\n",
    "\n",
    "**Applying Ridge Regression:**\n",
    "\n",
    "We will use the `Ridge` class from `sklearn.linear_model`. Start by initializing a Ridge regressor with an $\\alpha$ value of 1, which represents a starting point for the regularization strength.\n",
    "\n",
    "Here's how to set up and fit a Ridge regression model using `sklearn`[here](https://scikit-learn.org/0.16/modules/generated/sklearn.linear_model.Ridge.html). For example, if you are trying to perform a Ridge regression between `x` and `y`, you should follow these steps:\n",
    "\n",
    "1. `Ridge(alpha=1,fit_intercept=True)`\n",
    "2. `ridge.fit(x,y)`\n",
    "3. `ridge.predict(x)`\n",
    "4. `ridge.coef_`\n",
    "\n",
    "\n",
    "\n",
    "<font color='red'>**Question 7.**</font> Once you have fitted the model and made predictions, calculate the RMSE, and MAE for both the training and test sets. Select your answer(s) from the options in bCourses.\n",
    " * use `mean_squared_error`, `mean_absolute_error` functions from `sklearn.metrics`"
   ]
  },
  {
   "cell_type": "code",
   "execution_count": null,
   "id": "4d0e9fc0-28e7-4d67-bf3f-fb7197c162c1",
   "metadata": {
    "execution": {
     "iopub.execute_input": "2023-11-28T10:52:15.129702Z",
     "iopub.status.busy": "2023-11-28T10:52:15.129232Z",
     "iopub.status.idle": "2023-11-28T10:52:15.148797Z",
     "shell.execute_reply": "2023-11-28T10:52:15.147230Z",
     "shell.execute_reply.started": "2023-11-28T10:52:15.129670Z"
    }
   },
   "outputs": [],
   "source": [
    "# add your code here\n",
    "ridge = ...\n",
    "y_fit = ...\n",
    "y_predict= ...\n",
    "\n",
    "print('RMSE train:', mean_squared_error(y_train, y_fit, squared = False))\n",
    "print('RMSE test:', mean_squared_error(y_test, y_predict, squared = False))\n",
    "print('MAE train:', mean_absolute_error(y_train, y_fit))\n",
    "print('MAE test:', mean_absolute_error(y_test, y_predict))"
   ]
  },
  {
   "cell_type": "markdown",
   "id": "ba393e63-e597-4fb0-bfaa-3d78a2885655",
   "metadata": {},
   "source": [
    "### Step 4.3: Understanding the Impact of Regularization Strength\n",
    "\n",
    "Regularization strength, denoted by $\\alpha$, plays a critical role in Ridge regression. It influences the model by controlling the complexity of the coefficient estimates. To better comprehend this effect, we will visualize how the coefficients of our predictive variables change as we adjust $\\alpha$.\n",
    "\n",
    "**Interpreting the Role of Alpha:**\n",
    "- When $\\alpha = 0$, Ridge regression yields the same coefficients as a standard linear regression.\n",
    "- As $\\alpha$ increases, the impact of the regularization term grows, and the model coefficients tend to shrink towards zero.\n",
    "- With a very large $\\alpha$, the regularization effect dominates, driving all coefficients towards zero, resulting in a model with minimal predictive power (the null model).\n",
    "\n",
    "This behavior is crucial for understanding the balance between bias and variance, as well as the concept of model complexity.\n",
    "\n",
    "**Visualizing Coefficient Estimates:**\n",
    "\n",
    "The provided code block automatically calculates and plots the Ridge regression coefficients for a range of $\\alpha$ values. **No changes** are needed from your side; simply run the code and observe the plot.\n",
    "\n",
    "<font color='red'>**Question 8.**</font> Examine the plot generated by the code below. As $\\alpha$ increases, how do the coefficients of the model change? What does this suggest about the effect of regularization on the model's complexity? Use the visual cues from the plot and the theoretical implications of Ridge regression to interpret the relationship between $\\alpha$ and the estimated coefficients.\n"
   ]
  },
  {
   "cell_type": "code",
   "execution_count": 99,
   "id": "6992cc7b-1595-4490-bef4-732cfe1d1a19",
   "metadata": {
    "execution": {
     "iopub.execute_input": "2023-11-28T10:49:29.980469Z",
     "iopub.status.busy": "2023-11-28T10:49:29.979982Z",
     "iopub.status.idle": "2023-11-28T10:49:30.969235Z",
     "shell.execute_reply": "2023-11-28T10:49:30.968299Z",
     "shell.execute_reply.started": "2023-11-28T10:49:29.980433Z"
    }
   },
   "outputs": [
    {
     "data": {
      "image/png": "[encoded data removed]",
      "text/plain": [
       "<Figure size 432x288 with 1 Axes>"
      ]
     },
     "metadata": {
      "needs_background": "light"
     },
     "output_type": "display_data"
    }
   ],
   "source": [
    "alphas = np.linspace(0.01,50000,100)\n",
    "ridge = Ridge(max_iter=1000)\n",
    "coefs = []\n",
    "\n",
    "for a in alphas:\n",
    "    ridge.set_params(alpha=a)\n",
    "    ridge.fit(X_train, y_train)\n",
    "    coefs.append(ridge.coef_)\n",
    "\n",
    "ax = plt.gca()\n",
    "\n",
    "ax.plot(alphas, coefs)\n",
    "ax.set_xscale('log')\n",
    "plt.axis('tight')\n",
    "plt.xlabel('alpha')\n",
    "plt.ylabel('Standardized Coefficients')\n",
    "plt.title('Ridge coefficients as a function of alpha');\n"
   ]
  },
  {
   "cell_type": "markdown",
   "id": "922f5faf-434d-4d15-96cf-28d549a86db6",
   "metadata": {},
   "source": [
    "### Step 5: Regularized Regression with Optimal Alpha\n",
    "\n",
    "Selecting the optimal regularization parameter, $\\alpha$, is crucial for the performance of our Ridge and Lasso regression models. To determine the best value of $\\alpha$, we will utilize cross-validation, which allows us to assess how the models perform on different subsets of the training data. In this case, we'll perform **5-fold** cross-validation, which partitions the training data into five equal-sized subsamples, using four for training and one for validation, and iterates this process five times.\n",
    "\n",
    "**Cross-Validation Methodology:**\n",
    "\n",
    "- **k-fold Cross-Validation:** Divides the training data into `k` subsets. Each time, we train the model on `k-1` folds and validate it on the remaining fold. This process is repeated `k` times.\n",
    "- **Objective:** We aim to minimize the cross-validation Root Mean Squared Error (RMSE), which provides a measure of how well the model predicts the target variable on unseen data.\n",
    "\n",
    "**Defining the RMSE Function:**\n",
    "\n",
    "The function `rmse_cv` computes the cross-validation RMSE for a given model:\n",
    "\n",
    "```python\n",
    "from sklearn.model_selection import cross_val_score\n",
    "\n",
    "def rmse_cv(model, X, y):\n",
    "    rmse = np.sqrt(-cross_val_score(model, X, y, scoring=\"neg_mean_squared_error\", cv=5))\n",
    "    return rmse.mean()\n",
    "```\n",
    "\n",
    "- The cross_val_score function estimates the scoring metric, in this case, the negative mean squared error, for each fold.\n",
    "- We take the square root of the negated scores to obtain RMSE, which is more interpretable as it is on the same scale as the target variable."
   ]
  },
  {
   "cell_type": "code",
   "execution_count": 105,
   "id": "2808b81b-0888-4331-95aa-2f7f69ba3925",
   "metadata": {
    "execution": {
     "iopub.execute_input": "2023-11-28T11:06:00.028583Z",
     "iopub.status.busy": "2023-11-28T11:06:00.028179Z",
     "iopub.status.idle": "2023-11-28T11:06:00.034265Z",
     "shell.execute_reply": "2023-11-28T11:06:00.032950Z",
     "shell.execute_reply.started": "2023-11-28T11:06:00.028551Z"
    }
   },
   "outputs": [],
   "source": [
    "def rmse_cv(model, x,  y):\n",
    "    rmse= np.sqrt(-cross_val_score(model, x, y, scoring=\"neg_mean_squared_error\", cv = 5))\n",
    "    return(rmse)"
   ]
  },
  {
   "cell_type": "markdown",
   "id": "af08eda2-b664-4ccd-8ef5-1a323c36d892",
   "metadata": {},
   "source": [
    "#### Model 1: Ridge model\n",
    "\n",
    "The main tuning parameter for the Ridge model is alpha - a regularization parameter that measures how flexible our model is. The higher the regularization the less prone our model will be to overfit. However it will also lose flexibility and might not capture all of the signal in the data. Now we apply Cross-validation: we will use the provided rmse_cv function to evaluate the Ridge regression model over a range of $\\alpha$ values and determine the best one:"
   ]
  },
  {
   "cell_type": "code",
   "execution_count": 113,
   "id": "8f967145-831b-4171-9df7-7d597c2a6df7",
   "metadata": {
    "execution": {
     "iopub.execute_input": "2023-11-28T11:18:15.511303Z",
     "iopub.status.busy": "2023-11-28T11:18:15.510672Z",
     "iopub.status.idle": "2023-11-28T11:18:16.352643Z",
     "shell.execute_reply": "2023-11-28T11:18:16.352031Z",
     "shell.execute_reply.started": "2023-11-28T11:18:15.511273Z"
    }
   },
   "outputs": [],
   "source": [
    "model_ridge = Ridge()\n",
    "\n",
    "# create a list of candidate alpha values \n",
    "alphas = np.linspace(0,10,41)\n",
    "\n",
    "# return the list of average rmse for each alpha value in alphas\n",
    "cv_ridge = [rmse_cv(Ridge(alpha = alpha),X_train,  y_train).mean() \n",
    "            for alpha in alphas] \n",
    "cv_ridge = pd.Series(cv_ridge, index = alphas)"
   ]
  },
  {
   "cell_type": "markdown",
   "id": "d448f9de-bc0f-4f65-a687-7db3364fd442",
   "metadata": {},
   "source": [
    "**Task Breakdown:**\n",
    "\n",
    "1. **Find the Optimal Alpha:**\n",
    "   Determine the value of $\\alpha$ that results in the lowest RMSE during cross-validation. This is your model's optimal complexity level that balances bias and variance effectively.\n",
    "2. **Plot RMSE Across Different Alphas:**\n",
    "Visualize how RMSE changes as we adjust $\\alpha$. This helps us understand the impact of regularization strength on model performance\n",
    "3. **Retrain and Evaluate the Model:**\n",
    "With the optimal $\\alpha$ determined, retrain the Ridge model on the full training set and assess its performance on both the training and test sets.\n",
    "\n",
    "\n",
    "<font color='red'>**Question 9.**</font> Based on the  model's performance, select your answer(s) from the options in bCourses.\n",
    "\n",
    "<font color='red'>**Question 10.**</font> Upload the plot for **RMSE Across Different Alphas** for Ridge model"
   ]
  },
  {
   "cell_type": "code",
   "execution_count": null,
   "id": "d922562a-a9bf-4e92-ba91-9983b0bb964d",
   "metadata": {
    "execution": {
     "iopub.execute_input": "2023-11-28T11:18:17.494220Z",
     "iopub.status.busy": "2023-11-28T11:18:17.493475Z",
     "iopub.status.idle": "2023-11-28T11:18:17.503731Z",
     "shell.execute_reply": "2023-11-28T11:18:17.503050Z",
     "shell.execute_reply.started": "2023-11-28T11:18:17.494190Z"
    }
   },
   "outputs": [],
   "source": [
    "'''\n",
    "Find the Optimal Alpha:\n",
    "'''\n",
    "ridge_best_alpha = ..."
   ]
  },
  {
   "cell_type": "code",
   "execution_count": null,
   "id": "fb1e054e-924d-4471-8b4f-3ba68e332ea8",
   "metadata": {
    "execution": {
     "iopub.execute_input": "2023-11-28T11:18:18.821952Z",
     "iopub.status.busy": "2023-11-28T11:18:18.821568Z",
     "iopub.status.idle": "2023-11-28T11:18:19.003818Z",
     "shell.execute_reply": "2023-11-28T11:18:19.003031Z",
     "shell.execute_reply.started": "2023-11-28T11:18:18.821922Z"
    }
   },
   "outputs": [],
   "source": [
    "'''\n",
    "Plot RMSE Across Different Alphas:\n",
    "'''\n",
    "# put your code here\n",
    "...\n"
   ]
  },
  {
   "cell_type": "code",
   "execution_count": null,
   "id": "bb2923cf-4ec7-4e5f-9b4a-42f954d762e8",
   "metadata": {
    "execution": {
     "iopub.execute_input": "2023-11-28T11:18:19.693141Z",
     "iopub.status.busy": "2023-11-28T11:18:19.692472Z",
     "iopub.status.idle": "2023-11-28T11:18:19.708779Z",
     "shell.execute_reply": "2023-11-28T11:18:19.707876Z",
     "shell.execute_reply.started": "2023-11-28T11:18:19.693107Z"
    }
   },
   "outputs": [],
   "source": [
    "'''\n",
    "Retrain and Evaluate the Model\n",
    "'''\n",
    "m_ridge = ...\n",
    "y_fit = ...\n",
    "y_predict= ...\n",
    "\n",
    "print('RMSE train:', mean_squared_error(y_train, y_fit, squared = False))\n",
    "print('RMSE test:', mean_squared_error(y_test, y_predict, squared = False))\n",
    "print('MAE train:', mean_absolute_error(y_train, y_fit))\n",
    "print('MAE test:', mean_absolute_error(y_test, y_predict))"
   ]
  },
  {
   "cell_type": "markdown",
   "id": "5675ac0f-11c5-4ef4-8d4b-ae5bb63584f8",
   "metadata": {},
   "source": [
    "#### Model 2: Lasso model\n",
    "Repeat tasks 1-3 for Lasso model\n",
    "\n",
    "<font color='red'>**Question 11.**</font> Based on the lasso model's performance, select your answer(s) from the options in bCourses.\n",
    "\n",
    "<font color='red'>**Question 12.**</font> Upload the plot for **RMSE Across Different Betas** for Lasso model"
   ]
  },
  {
   "cell_type": "code",
   "execution_count": 117,
   "id": "043aabdd-6df5-49b6-b956-7827d82e8df8",
   "metadata": {
    "execution": {
     "iopub.execute_input": "2023-11-28T11:18:32.729042Z",
     "iopub.status.busy": "2023-11-28T11:18:32.728383Z",
     "iopub.status.idle": "2023-11-28T11:18:33.115594Z",
     "shell.execute_reply": "2023-11-28T11:18:33.114710Z",
     "shell.execute_reply.started": "2023-11-28T11:18:32.729011Z"
    }
   },
   "outputs": [],
   "source": [
    "model_lasso = Lasso()\n",
    "betas = np.linspace(0.0001, 0.0005, 16)\n",
    "cv_lasso = [rmse_cv(Lasso(alpha=beta),X_train, y_train).mean() \n",
    "            for beta in betas]\n",
    "cv_lasso = pd.Series(cv_lasso , index = alphas)"
   ]
  },
  {
   "cell_type": "code",
   "execution_count": null,
   "id": "3f6926c3-faf8-4ea2-b59f-4d630ea3ed54",
   "metadata": {},
   "outputs": [],
   "source": [
    "'''\n",
    "Find the Optimal beta:\n",
    "'''\n",
    "lasso_best_beta = ..."
   ]
  },
  {
   "cell_type": "code",
   "execution_count": null,
   "id": "2d1b375f-a975-44d5-bc73-d59546d84d72",
   "metadata": {
    "execution": {
     "iopub.execute_input": "2023-11-28T11:19:58.093198Z",
     "iopub.status.busy": "2023-11-28T11:19:58.092475Z",
     "iopub.status.idle": "2023-11-28T11:19:58.417552Z",
     "shell.execute_reply": "2023-11-28T11:19:58.416504Z",
     "shell.execute_reply.started": "2023-11-28T11:19:58.093132Z"
    }
   },
   "outputs": [],
   "source": [
    "'''\n",
    "Plot RMSE Across Different Betas:\n",
    "'''\n",
    "# put your code here\n",
    "...\n"
   ]
  },
  {
   "cell_type": "code",
   "execution_count": null,
   "id": "67bac086-6f06-4ec6-9490-96088cad11df",
   "metadata": {
    "execution": {
     "iopub.execute_input": "2023-11-28T11:18:55.877510Z",
     "iopub.status.busy": "2023-11-28T11:18:55.876920Z",
     "iopub.status.idle": "2023-11-28T11:18:55.895005Z",
     "shell.execute_reply": "2023-11-28T11:18:55.893673Z",
     "shell.execute_reply.started": "2023-11-28T11:18:55.877476Z"
    }
   },
   "outputs": [],
   "source": [
    "'''\n",
    "Retrain and Evaluate the Model\n",
    "'''\n",
    "m_lasso = ...\n",
    "y_fit = ...\n",
    "y_predict= ...\n",
    "\n",
    "print('RMSE train:', mean_squared_error(y_train, y_fit, squared = False))\n",
    "print('RMSE test:', mean_squared_error(y_test, y_predict, squared = False))\n",
    "print('MAE train:', mean_absolute_error(y_train, y_fit))\n",
    "print('MAE test:', mean_absolute_error(y_test, y_predict))"
   ]
  },
  {
   "cell_type": "markdown",
   "id": "acc28928-7bbc-484e-8848-d5a3cdc7eed5",
   "metadata": {},
   "source": [
    "### Step 6: Model Comparison and Selection\n",
    "\n",
    "After training our linear, Lasso, and Ridge regression models, it's time to compare their performances to determine which one provides the best predictions on our test set. We will use the RMSE of the testing set as our comparison metric, as it gives us a clear indication of the average prediction error made by each model.\n",
    "\n",
    "**Evaluating Model Performance:**\n",
    "\n",
    "- **Linear Regression:** Evaluate the RMSE on the test set.\n",
    "- **Lasso Regression:** Evaluate the RMSE on the test set using the model with the optimal $\\alpha$ found via cross-validation.\n",
    "- **Ridge Regression:** Similarly, evaluate the RMSE on the test set using the Ridge model with the optimal $\\alpha$.\n",
    "\n",
    "**Selecting the Best Model:**\n",
    "\n",
    "<font color='red'>**Question 13.**</font> Compare the RMSE values for the testing set across all three models: linear regression, Lasso regression, and Ridge regression. Which model achieves the lowest RMSE on the test set, indicating the highest predictive accuracy?\n",
    "\n",
    "\n",
    "**Considerations:**\n",
    "\n",
    "Keep in mind that while RMSE is a useful measure of model accuracy, it's not the only metric to consider when evaluating model performance. In practice, it's also important to consider the complexity of the model, the interpretability of the coefficients, and how well the model meets the assumptions of linear regression.\n"
   ]
  },
  {
   "cell_type": "markdown",
   "id": "supported-crown",
   "metadata": {},
   "source": [
    "## Submit your work!\n",
    "\n",
    "<font color='red'>**Question 14.** </font> Submit your PDF file.\n",
    "\n",
    "I recommend that you save your .ipynb file and keep a copy of it so that you can refer to it in the future (e.g., when working on the project). \n",
    "\n",
    "Once done with answering ALL questions and you are ready to submit the quiz, follow these steps:\n",
    "\n",
    "1. Run all cells in the notebook. You can do this by going to Cell > Run All. This makes sure that all your visuals and answers show up in the file you submit.\n",
    "\n",
    "2. Then, go to \"File > Download as > PDF via LaTex(.pdf)\" to generate a PDF file. Name the PDF file with your last name \"Lastname.pdf\". \n",
    "\n",
    "3. If you have trouble generating the PDF file, go to \"File > Download as > PDF via HTML(.html)\" (last option in the drop down menu). Even if you click on PDF via HTML(.html), make sure that the downloaded file is '.pdf'.\n",
    "\n",
    "3. If you are using your own Python environment and are have trouble generating the PDF file from Jupyter notebook, use [datahub.berkeley.edu](http://datahub.berkeley.edu). Log in with your CalNet credentials. Upload the ipynb file with your outputs and results to Juptrer. Then follow step 2.\n",
    "\n",
    "4. Upload the PDF file to the bCourses quiz (more instructions there).\n",
    "\n",
    "\n",
    "**Not submitting a PDF file will result in a grade of 0 on this lab assignment.**\n",
    "**You will also receive a 0 if your answers to this quiz are inconsistent with your PDF.**"
   ]
  },
  {
   "cell_type": "code",
   "execution_count": null,
   "id": "5babc5d9-ae4e-4adc-865d-32cd72c6756b",
   "metadata": {},
   "outputs": [],
   "source": []
  }
 ],
 "metadata": {
  "kernelspec": {
   "display_name": "Python 3 (ipykernel)",
   "language": "python",
   "name": "python3"
  },
  "language_info": {
   "codemirror_mode": {
    "name": "ipython",
    "version": 3
   },
   "file_extension": ".py",
   "mimetype": "text/x-python",
   "name": "python",
   "nbconvert_exporter": "python",
   "pygments_lexer": "ipython3",
   "version": "3.10.0"
  }
 },
 "nbformat": 4,
 "nbformat_minor": 5
}
