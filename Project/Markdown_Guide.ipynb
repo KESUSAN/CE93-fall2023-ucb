{
 "cells": [
  {
   "cell_type": "markdown",
   "id": "55db788f",
   "metadata": {},
   "source": [
    "HEADINGS\n",
    "\n",
    "Use the number sign (#) followed by a blank space for notebook titles and section headings:\n",
    "\n",
    "# Header 1\n",
    "## Header 2\n",
    "### Header 3\n",
    "#### Header 4\n",
    "##### Header 5\n",
    "###### Header 6\n",
    "\n",
    "***"
   ]
  },
  {
   "cell_type": "markdown",
   "id": "53151889",
   "metadata": {},
   "source": [
    "TEXT EMPHASIS\n",
    "\n",
    "**This is bold text**  \n",
    "\n",
    "*This is italic text*  \n",
    "\n",
    "***Bold and Italic*** \n",
    "\n",
    "***"
   ]
  },
  {
   "cell_type": "markdown",
   "id": "0e571c3e",
   "metadata": {},
   "source": [
    "ORDERED LIST \n",
    "\n",
    "The Ordered List is a numbered list.\n",
    "\n",
    "1. Cheese\n",
    "2. Carrot\n",
    "3. Coconut \n",
    "    \n",
    "***"
   ]
  },
  {
   "cell_type": "markdown",
   "id": "ed1dfb15",
   "metadata": {},
   "source": [
    "UNORDERED LIST \n",
    "\n",
    "The Unordered list is a bullet list.\n",
    "\n",
    "- Cheese\n",
    "- Carrot\n",
    "- Coconut\n",
    "\n",
    "***"
   ]
  },
  {
   "cell_type": "markdown",
   "id": "4b2f0a86",
   "metadata": {},
   "source": [
    "TABLE\n",
    "\n",
    "A table can be constructed using | (pipe symbol) and — (dash) to mark columns and rows.\n",
    "\n",
    "| Default | Left-aligned | Center-aligned | Right-aligned |\n",
    "|---------|:-------------|:--------------:|--------------:|\n",
    "| Default | Left | Center | Right |\n",
    "\n",
    "For manually changing the justification, you can use:\n",
    "\n",
    "Use :-: for centered\n",
    "\n",
    "Use — for right centered\n",
    "\n",
    "Use :- for left centered\n",
    "\n",
    "***"
   ]
  },
  {
   "cell_type": "markdown",
   "id": "3443929b",
   "metadata": {},
   "source": [
    "TEXT COLOR\n",
    "\n",
    "`<span style=\"color:color\">Text</span>`\n",
    "\n",
    "Where color = blue, red, green, pink, yellow\n",
    "\n",
    "<span style=\"color:blue\">This is blue text.</span>\n",
    "\n",
    "<span style=\"color:red\">This is red text.</span> Now back to black text.\n",
    "\n",
    "<span style=\"color:green\">This is green text.</span>\n",
    "\n",
    "# <span style=\"color:blue\">Blue Header 1</span>\n",
    "\n",
    "Some text.\n",
    "\n",
    "## <span style=\"color:red\">Red Header 2</span>\n",
    "\n",
    "Some text.\n",
    "\n",
    "### <span style=\"color:green\">Green Header 3</span>\n",
    "\n",
    "Some text.\n",
    "****"
   ]
  },
  {
   "cell_type": "markdown",
   "id": "b696b7f7",
   "metadata": {},
   "source": [
    "EQUATIONS\n",
    "\n",
    "* To type equations, write them between `$` signs: $ Y = X+5 $\n",
    "\n",
    "* To center the equation, use two `$$` signs at the beginning and at the end: $$ Y = X+5 $$"
   ]
  },
  {
   "cell_type": "code",
   "execution_count": null,
   "id": "66a0812b-dce8-4fa6-8420-d3484c7179f4",
   "metadata": {},
   "outputs": [],
   "source": []
  }
 ],
 "metadata": {
  "kernelspec": {
   "display_name": "Python 3 (ipykernel)",
   "language": "python",
   "name": "python3"
  },
  "language_info": {
   "codemirror_mode": {
    "name": "ipython",
    "version": 3
   },
   "file_extension": ".py",
   "mimetype": "text/x-python",
   "name": "python",
   "nbconvert_exporter": "python",
   "pygments_lexer": "ipython3",
   "version": "3.10.0"
  }
 },
 "nbformat": 4,
 "nbformat_minor": 5
}
