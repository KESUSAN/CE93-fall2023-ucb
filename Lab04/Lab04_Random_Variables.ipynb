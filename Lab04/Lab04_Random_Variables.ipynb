{
 "cells": [
  {
   "cell_type": "markdown",
   "id": "6dbe270f",
   "metadata": {},
   "source": [
    "# CE 93: Engineering Data Analysis\n",
    "# Lab 04: Random Variables"
   ]
  },
  {
   "cell_type": "markdown",
   "id": "dbf4fc0a",
   "metadata": {},
   "source": [
    "**Full Name:** *replace text here*"
   ]
  },
  {
   "cell_type": "markdown",
   "id": "dc075cef",
   "metadata": {},
   "source": [
    "## Instructions \n",
    "\n",
    "Welcome to Lab 04! \n",
    "\n",
    "Please save your work after every question! At the end, you will have to submit your Jupyter Notebook as a PDF file in the bCourses quiz. The notebook should be consistent with your quiz answers. Not submitting a PDF file will result in a grade of 0 on the lab assignment. You will also receive a 0 if your answers to the quiz are inconsistent with your PDF.\n",
    "\n",
    "If you see cells with \"...\" make sure to replace the \"...\" with your code even if they are not listed with a \"Question\". \n",
    "Please remember to label all axes with the quantity and units being plotted. \n",
    "\n",
    "Any part listed as a \"<font color='red'>**Question**</font>\" should be answered in the bCourses quiz to receive credit."
   ]
  },
  {
   "cell_type": "markdown",
   "id": "e4b6eeca",
   "metadata": {},
   "source": [
    "We will use the following Python packages:\n",
    "\n",
    "* NumPy\n",
    "* MatPlotLib\n",
    "* scipy"
   ]
  },
  {
   "cell_type": "markdown",
   "id": "e20289a0",
   "metadata": {},
   "source": [
    "## Load the required libraries \n",
    "\n",
    "The following code loads the required libraries. Run this cell first."
   ]
  },
  {
   "cell_type": "code",
   "execution_count": null,
   "id": "bc9be949",
   "metadata": {},
   "outputs": [],
   "source": [
    "# import python library / packages \n",
    "import numpy as np                           # ndarrays for gridded data\n",
    "import matplotlib.pyplot as plt              # plotting\n",
    "from scipy import integrate                  # integration techniques"
   ]
  },
  {
   "cell_type": "markdown",
   "id": "e0a6edf8",
   "metadata": {},
   "source": [
    "## About the Lab\n",
    "\n",
    "In this lab, we will investigate properties of discrete and continuous random variables using Python. We will not load any data. Instead, we will create the random variables ourselves."
   ]
  },
  {
   "cell_type": "markdown",
   "id": "8a46e6f5",
   "metadata": {},
   "source": [
    "## Properties of Probability Mass Function \n",
    "\n",
    "Let's first review some basic concepts.\n",
    "\n",
    "<font color='red'>**Question 1.**</font> What is(are) the property(ies) of a probability mass function? Select your answer(s) from the options in bCourses.\n",
    "\n",
    "### Temperature PMF\n",
    "\n",
    "You have been asked to investigate the daily temperature trends in Berkeley. Specifically, you want to study the number of days that will have an average temperature above normal for a specific week in February. Let $X$ be the number of days that have an average temperature above normal for a week in February.\n",
    "\n",
    "<font color='red'>**Question 2.**</font> Is $X$ a discrete or continuous random variable? Refer to the bCourses quiz to answer this questions. \n",
    "\n",
    "\n",
    "Based on historical data for February, you were able to calculate the probability mass function (PMF) for $X$. The PMF is shown in the table below. After being done with your calculations, you realized that you forgot to calculate the probability for $X=3$.\n",
    "\n",
    "\n",
    "|$X$|0|1|2|3|4|5|6|7|\n",
    "|:-:|:-:|:-:|:-:|:-:|:-:|:-:|:-:|:-:|\n",
    "|PMF|0.05|0.19|0.15|??|0.15|0.20|0.008|0.005|\n",
    "|<img width=50/>|<img width=40/>|<img width=40/>|<img width=40/>|<img width=40/>|<img width=40/>|<img width=40/>|<img width=40/>|<img width=40/>|\n",
    "\n",
    "<font color='red'>**Question 3.1.**</font> Calculate $p(X=3)$ in `Python` and then select your answer from the options in bCourses. Do **not** round your answer.\n",
    "\n",
    "<font color='red'>**Question 3.2.**</font> Calculate $p(X=3)$ by hand or by using a calculator and then select your answer from the options in bCourses."
   ]
  },
  {
   "cell_type": "code",
   "execution_count": null,
   "id": "8b8ef7dc",
   "metadata": {},
   "outputs": [],
   "source": [
    "# Calculate p(3) in Python\n",
    "\n",
    "PMF_X_3 = ...\n",
    "print(PMF_X_3)"
   ]
  },
  {
   "cell_type": "markdown",
   "id": "28da5207",
   "metadata": {},
   "source": [
    "### Why Are My Values Slightly Different ?!\n",
    "\n",
    "You should see a very slight error in the `Python` result. This is know as a 'round-off error' and is due to the fact that floating point numbers (i.e., a number with a decimal point) cannot always be stored with perfect precision. \n",
    "\n",
    "Let's try a simpler example. We know that $1.0-0.95$ is equal to $0.05$. To check if two expressions are equal in `Python`, we can use `==` (double equal sign). Copy and paste this line into the cell below and run it `1.0 - 0.95 == 0.05`. \n",
    "Running `1.0 - 0.95 == 0.05` is equivalent to asking , \"*Is $1.0-0.95$ equal to  $0.05$?*\" Since this statement is true, Python should return the value `True`. Otherwise, if the statement is false, Python will return `False`.\n",
    "\n",
    "So why does `Python` return `False` in this case? We know that the above statement should be `True`. Read [this](https://pythonnumericalmethods.berkeley.edu/notebooks/chapter09.03-Roundoff-Errors.html) short page to understand this error and to answer the next question.\n",
    "\n",
    "<font color='red'>**Question 4.**</font> Which of the following commands give us the exact value of $p(X=3)$ (i.e., the value in Question 3.2) using `Python`? Select your answer(s) from the options in bCourses.\n",
    "\n",
    "**The order of the options might be different in bCourses, so read the options there carefully.**\n",
    "\n",
    "1. `round(PMF_X_3)`\n",
    "2. `round(PMF_X_3, 3)`\n",
    "3. `round(PMF_X_3, 5)`"
   ]
  },
  {
   "cell_type": "code",
   "execution_count": null,
   "id": "3c41e142",
   "metadata": {},
   "outputs": [],
   "source": [
    "# add your code below\n",
    "\n",
    "..."
   ]
  },
  {
   "cell_type": "markdown",
   "id": "d279e0d4",
   "metadata": {},
   "source": [
    "### Create a Numpy Array for $X$\n",
    "\n",
    "In the code cell below, create a numpy array with the PMF values of $X$ using `np.array()`. For example, if we want to create a numpy array with the values 0.25, 0.50, 0.25, we would use: `PMF_X = np.array([0.25, 0.50, 0.25])`. So, we simply list the PMF values between the square brackets and separate them with commas. Don't forget to include $p(X=3)$, which you calculated above.\n",
    "\n",
    "When creating the numpy array, make sure that the PMF values are **in order**. So the first value is for $X=0$, then $X=1$, etc."
   ]
  },
  {
   "cell_type": "code",
   "execution_count": null,
   "id": "773b7c23",
   "metadata": {},
   "outputs": [],
   "source": [
    "# Create an array of all PMF values\n",
    "\n",
    "PMF_X = ...\n",
    "print(PMF_X)"
   ]
  },
  {
   "cell_type": "markdown",
   "id": "c84b88c6",
   "metadata": {},
   "source": [
    "### Example PMF Plot\n",
    "\n",
    "We can plot a PMF in Python using `plt.vlines()`. Run the code cell below to look at an example for a simplified PMF with probabilities equal to `[0.25, 0.50, 0.25]`. You can read more about `plt.vlines()` [here](https://matplotlib.org/3.1.1/api/_as_gen/matplotlib.pyplot.vlines.html). As the name suggests, it plots vertical lines at each $x$ starting from $y_{min}$ to $y_{max}$."
   ]
  },
  {
   "cell_type": "code",
   "execution_count": null,
   "id": "29b78f56",
   "metadata": {},
   "outputs": [],
   "source": [
    "# Example PMF plot\n",
    "\n",
    "# create a numpy array of the PMF\n",
    "PMF_example = np.array([0.25, 0.50, 0.25])\n",
    "\n",
    "# Assume that the PMF above is for Y = 0, Y = 1, and Y = 2. \n",
    "# We can create a new numpy array for the Y values, or simply use np.arange().\n",
    "# np.arange(end) will create a numpy array with values [0, 1, ..., end-1]\n",
    "Y = np.arange(3)\n",
    "\n",
    "# Create figure and speicfy its width and height, (6,4) in this case\n",
    "plt.figure(figsize=(6,4))\n",
    "\n",
    "# Plot PMF using vlines\n",
    "# Specify line color = blue, line style = solid line, and line width = 3\n",
    "plt.vlines(Y, 0, PMF_example, colors='b', linestyles='-', lw=3)\n",
    "\n",
    "# add title\n",
    "plt.title('PMF Example')\n",
    "\n",
    "# Label axes\n",
    "plt.xlabel('$Y$')\n",
    "plt.ylabel('Probability')\n",
    "\n",
    "# Specify y limits\n",
    "plt.ylim(0, 0.6)\n",
    "\n",
    "# specify x axis tick marks\n",
    "plt.xticks(Y)\n",
    "\n",
    "# display plot\n",
    "plt.show()"
   ]
  },
  {
   "cell_type": "markdown",
   "id": "8bc89851",
   "metadata": {},
   "source": [
    "### PMF Plot of $X$\n",
    "\n",
    "Copy the code cell above, paste it to the code cell below, and then modify the necessary inputs to plot the PMF of $X$ (number of days that have an average temperature above normal for next week). Recall that the PMF of $X$ is saved as `PMF_X`. You will have to create an array of all the $X$ values, similar to what we did for $Y$ in the example code above.\n",
    "\n",
    "<font color='red'>**Question 5.**</font> Plot the PMF of the random variable $X$. Make sure you label the axes correctly. Also, add a title and specify appropriate limits for both axes. After generating the plot, right click on it and click 'Save image as' to download your figure as an image. Upload your figure to bCourses using the instructions there."
   ]
  },
  {
   "cell_type": "code",
   "execution_count": null,
   "id": "24376783",
   "metadata": {},
   "outputs": [],
   "source": [
    "# insert your code for plotting PMF of X in this cell\n",
    "\n",
    "..."
   ]
  },
  {
   "cell_type": "markdown",
   "id": "ae01283f",
   "metadata": {},
   "source": [
    "## Cumulative Distribution Function\n",
    "\n",
    "We want to compute the cumulative distribution function (CDF) of $X$, which simply is:\n",
    "\n",
    "$$ F(x)= P(X\\leq x)= \\sum \\limits _{x_i<x} ^{} p(x_i)$$\n",
    "\n",
    "`Python` provides several easy functions to do so.\n",
    "\n",
    "<font color='red'>**Question 6.**</font> Which of the following commands can we use to calculate the CDF of $X$? Select your answer(s) from the options in bCourses.\n",
    "    \n",
    "**The order of the options might be different in bCourses, so read the options there carefully.**\n",
    "\n",
    "1. `np.cumsum(PMF_X)`\n",
    "2. `sum(PMF_X)`\n",
    "3. `PMF_X.cumsum()`\n",
    "\n",
    "*You can try out the different functions and check their output.*"
   ]
  },
  {
   "cell_type": "code",
   "execution_count": null,
   "id": "6c058085",
   "metadata": {},
   "outputs": [],
   "source": [
    "# Try out different ways to compute CDF\n",
    "\n",
    "..."
   ]
  },
  {
   "cell_type": "markdown",
   "id": "03652799",
   "metadata": {},
   "source": [
    "###  CDF Plot of $X$ \n",
    "In the code cell below, calculate the cumulative distribution function of $X$ using an appropriate method from the options above and save it as `CDF_X`.  \n",
    "\n",
    "Once we have computed the CDF values, we can plot it in `Python` using `plt.step()`. You can read about the required inputs [here](https://matplotlib.org/stable/api/_as_gen/matplotlib.pyplot.step.html).\n",
    "\n",
    "<font color='red'>**Question 7.**</font> Use the following command to plot the CDF of $X$: `plt.step(X, CDF_X, c='r')`. Is the plot correct? Provide your answer in the bCourses quiz.\n",
    "\n",
    "*Hint: Refer to the lecture notes to see the relation between CDF and PMF. The CDF should show \"jumps\" at each possible value of the random variable, and the value of the jump should be equal to the value of the PMF at the corresponding $x$ value. So, at $x_i$, the CDF should show a jump and the value of the jump should be equal to $p(x_i)$. In the same plot of the CDF, also plot the PMF using `plt.vlines()`.Then, check to see where the jumps of the CDF occur and if their values are equal to the corresponding $p(x)$.*\n",
    "\n",
    "*Note that `X` in `plt.step(X, CDF_X, c='r')` is simply an array with all $X$ values in order (i.e., 0, 1, 2, etc.). You should have created this array to plot the PMF.*"
   ]
  },
  {
   "cell_type": "code",
   "execution_count": null,
   "id": "27465bba",
   "metadata": {},
   "outputs": [],
   "source": [
    "# Calculate the CDF of X\n",
    "CDF_X = ...\n",
    "\n",
    "# Get the possible values of X using np.arange()\n",
    "X = ...\n",
    "\n",
    "# Plot the CDF of X using the instructions in Question 7\n",
    "..."
   ]
  },
  {
   "cell_type": "markdown",
   "id": "d556a674",
   "metadata": {},
   "source": [
    "Well, would I ask you if the plot is correct if it is actually correct?! Now, let us (aka you) figure out how to plot it correctly. If you didn't read the documentation for `plt.step()`, go back to the previous question and read it to answer Question 8. \n",
    "\n",
    "<font color='red'>**Question 8.**</font> Which of the following input parameters need to be specified to correctly plot the CDF of $X$? Select your answer(s) from the options in bCourses.\n",
    "   \n",
    "**The order of the options might be different in bCourses, so read the options there carefully.**\n",
    "\n",
    "1. `where='pre'`\n",
    "1. `where='post'`\n",
    "1. `where='mid'`\n",
    "\n",
    "*To specify input parameters for a function, you simply add them between parentheses. For example, in `plt.step(X, CDF_X, c='r')`, we added `c='r'`, which is an input parameter that specifies the color of the line as red. Likewise, you can specify the input parameter `where` by adding it between parentheses after a comma.* \n",
    "\n",
    "*Try out the different options for `where` and then check to see which option shows the correct jumps of the CDF. You can also include in the same plot the PMF plot to make it easier to compare the values of the jumps.*"
   ]
  },
  {
   "cell_type": "code",
   "execution_count": null,
   "id": "d820d83e",
   "metadata": {},
   "outputs": [],
   "source": [
    "# add your code below\n",
    "\n",
    "..."
   ]
  },
  {
   "cell_type": "markdown",
   "id": "3d6aadcc",
   "metadata": {},
   "source": [
    "### Extra: Better Looking CDF\n",
    "\n",
    "I personally like to plot the CDF in a more professional way. Run the code below to see the output. I will not provide more details here. Feel free to explore yourself or ask me about it! You do not have to answer any questions."
   ]
  },
  {
   "cell_type": "code",
   "execution_count": null,
   "id": "3f963322",
   "metadata": {},
   "outputs": [],
   "source": [
    "# Run this cell to plot CDF of X\n",
    "\n",
    "# append values to X to plot lines extending below 0 and greater than the maximum\n",
    "X_appended = np.arange(-1,9,1)\n",
    "\n",
    "# insert a value 0 at the the first position (i.e., 0) of CDF_X\n",
    "CDF_X_appended = np.insert(CDF_X, 0, 0)\n",
    "\n",
    "# plot horizontal lines for CDF\n",
    "plt.hlines(y=CDF_X_appended, xmin=X_appended[:-1], xmax=X_appended[1:], color='r', zorder=1)\n",
    "\n",
    "# Plot white filled points\n",
    "plt.scatter(X_appended[1:-1], CDF_X_appended[:-1], color='white', s=20, zorder=2, edgecolor='r')\n",
    "\n",
    "# Plot solid filled points\n",
    "plt.scatter(X_appended[1:-1], CDF_X, color='r', s=20, zorder=2)\n",
    "\n",
    "# add title and lables\n",
    "plt.title('Better Looking CDF')\n",
    "plt.ylabel('CDF')\n",
    "plt.xlabel('$X$')\n",
    "\n",
    "# add grid lines on the y-axis\n",
    "plt.grid(axis=\"y\")\n",
    "\n",
    "# speify limits for the x-axis\n",
    "plt.xlim(-0.75, 7.75)\n",
    "\n",
    "# display plots\n",
    "plt.show()"
   ]
  },
  {
   "cell_type": "markdown",
   "id": "9d62b832",
   "metadata": {},
   "source": [
    "## Calculating Numerical Summaries \n",
    "\n",
    "In the lecture, we defined the mean and variance of a discrete random variable as:\n",
    "\n",
    "$\\mu_X=E[X]= \\sum \\limits _{all x_i} ^{} x_i \\cdot p(x_i) = x_1 p(x_1)  + ... +  x_n p(x_n) \\$\n",
    "\n",
    "$\\sigma_X^2=Var[X]= \\sum \\limits _{all x_i} ^{} (x_i-\\mu_X)^2 \\cdot p(x_i) = (x_1-\\mu_X)^2 p(x_1)  + ... +  (x_n-\\mu_X)^2 p(x_n) \\$\n",
    "\n",
    "If the values of the random variable are saved as `X` and the corresponding PMF values are saved in a variable `PMF_X`, then we can multiply both variables using `X*PMF_X` and finally take the sum of the product using `mean_X = sum(X*PMF_X)` to get the mean value. This is equivalent to: $\\sum \\limits _{all x_i} ^{} x_i \\cdot p(x_i) $.\n",
    "\n",
    "We can do the same thing to get the variance using `sum((X-mean_X)**2*PMF_X))`, where `mean_X` is the expected value of $X$ computed using `sum(X*PMF_X)`. This is equivalent to: $\\sum \\limits _{all x_i} ^{} (x_i-\\mu_X)^2 \\cdot p(x_i)$. Note that `**` in `Python` represent exponentiation (i.e., power).\n",
    "\n",
    "Using the above information, compute in `Python` the following for the random variable $X$:\n",
    "1. Mean: $\\mu_X$\n",
    "2. Standard Deviation: $\\sigma_X$\n",
    "3. Skewness Coefficient: $\\theta_X$\n",
    "\n",
    "For skewness, use the following equation (modify it to use `sum()`, multiplication, and exponentiation just like the mean and variance equations):\n",
    "\n",
    "\n",
    "$\\theta_X = {\\displaystyle\\sum \\limits _{all x_i} ^{} \\left[\\left(\\frac{x_i-\\mu_X}{\\sigma_X}\\right)^3 \\cdot p_X(x_i)\\right]} \\$\n",
    "\n",
    "\n",
    "<font color='red'>**Question 9.**</font> What is the value of $\\mu_X$? Add your answer in the bCourses quiz.\n",
    "\n",
    "<font color='red'>**Question 10.**</font> What is the value of $\\sigma_X$? Select your answer from the options in the bCourses quiz.\n",
    "\n",
    "Recall that skewness is a numerical parameter that describes whether the distribution is left/negatively skewed, symmetric, or right/positively skewed. It is common to use the following guidelines to describe a distribution based on the skewness coefficient:\n",
    "* if $\\theta_X < -1$, then $X$ is highly negatively skewed\n",
    "* if $-1 < \\theta_X < -0.5$, then $X$ is moderately negatively skewed\n",
    "* if $-0.5 < \\theta_X < 0.5$, then $X$ is symmetric\n",
    "* if $0.5< \\theta_X < 1$, then $X$ is moderately positively skewed\n",
    "* if $\\theta_X > 1$, then $X$ is highly positively skewed\n",
    "\n",
    "<font color='red'>**Question 11.**</font> Based on your value of $\\theta_X$ and the above definitions, what can you say about $X$? Select your answer from the options in the bCourses quiz."
   ]
  },
  {
   "cell_type": "code",
   "execution_count": null,
   "id": "b091d0f3",
   "metadata": {},
   "outputs": [],
   "source": [
    "# Calculate the numerical summaries for X below\n",
    "\n",
    "..."
   ]
  },
  {
   "cell_type": "markdown",
   "id": "62191b3c",
   "metadata": {},
   "source": [
    "## Properties of Continuous Random Variables\n",
    "\n",
    "In the remaining part of this lab, we will work with a new random variable.\n",
    "\n",
    "Let $Z$ be a continuous random variable with the following probability density function:\n",
    "\n",
    "$$ f_Z(z)=   \\left\\{\n",
    "\\begin{array}{ll}\n",
    "      \\frac{2}{30} (1+\\frac{z}{10}) & 0\\leq z \\leq 10\\\\\n",
    "      0 & otherwise\\\\\n",
    "\\end{array} \n",
    "\\right.  $$\n",
    "\n",
    "In `Python`, we can define a function `PDF(z)` to easily calculate the PDF of $Z$ as follows:\n",
    "\n",
    "```python\n",
    "# define a function to calculate the PDF\n",
    "def PDF(z):\n",
    "    return 2/30*(1+z/10) #this is simply the equation for f(z) from above\n",
    "```\n",
    "    \n",
    "Then, we can evaluate the densities of $Z$ directly using the function `PDF()`.\n",
    "\n",
    "Run the code below to check it out and feel free to calculate different densities."
   ]
  },
  {
   "cell_type": "code",
   "execution_count": null,
   "id": "eec73b74",
   "metadata": {},
   "outputs": [],
   "source": [
    "# define a function to calculate the PDF\n",
    "def PDF(z):\n",
    "    return 2/30*(1+z/10) # this is simply the equation for f(z) from above\n",
    "\n",
    "# Get the density for z = 1\n",
    "PDF_1 = PDF(1)\n",
    "print('f(1)= '+ str(round(PDF_1,3)))"
   ]
  },
  {
   "cell_type": "markdown",
   "id": "71434ac5",
   "metadata": {},
   "source": [
    "We can also define an array with many $z$ values and evaluate the PDF at these values using the function `PDF()`. Because $Z$ is a continuous random variable with $0\\leq z \\leq 10$, we can create an array with many values between 0 and 10. One `Python` function that can easily do that is `np.linspace(start, stop, num)`, which generates `num` equally spaced values within the interval [start, stop]. If this array is called `z`, then we can get the density at each value using `PDF(z)`, and perform other operations such as plotting the PDF.  \n",
    "\n",
    "Run the code below to plot the PDF of $Z$."
   ]
  },
  {
   "cell_type": "code",
   "execution_count": null,
   "id": "4ac42f46",
   "metadata": {},
   "outputs": [],
   "source": [
    "# create an array z with 1000 equally distributed values between 0 and 10 (range of z)\n",
    "z = np.linspace(0, 10, 1000)\n",
    "\n",
    "# use the function we defined to calculate the PDF for every value in the array z\n",
    "PDF_z = PDF(z)\n",
    "\n",
    "# plot the pdf of z\n",
    "plt.plot(z,PDF_z)\n",
    "\n",
    "# add title and lables\n",
    "plt.title('PDF of $Z$')\n",
    "plt.ylabel('$f(z)$')\n",
    "plt.xlabel('$Z$')\n",
    "\n",
    "# specify limits\n",
    "plt.ylim([0,0.15])\n",
    "\n",
    "# display plot\n",
    "plt.show()"
   ]
  },
  {
   "cell_type": "markdown",
   "id": "0202542c",
   "metadata": {},
   "source": [
    "Recall that to calculate probabilities from the PDF of a continuous random variable, we have to integrate. We can use the `integrate.quad` function to perform integration directly in `Python` as follows:\n",
    "\n",
    "`P_a_z_b = integrate.quad(PDF, a, b)[0]`\n",
    "\n",
    "This will simply calculate the integral of the function defined in `PDF` from a to b, which is equal to the probability that $a \\leq z \\leq b$.\n",
    "\n",
    "Run the code below to calculate $P(1 \\leq z \\leq 5)$ by integrating the PDF from 1 to 5. Feel free to calculate different probabilities."
   ]
  },
  {
   "cell_type": "code",
   "execution_count": null,
   "id": "7268b7c3",
   "metadata": {},
   "outputs": [],
   "source": [
    "# calculate the probability that 1<z<5 and round it\n",
    "P_1_z_5 = round(integrate.quad(PDF, 1, 5)[0], 3)\n",
    "print('The probability that 1 < z < 5 is: '+ str(P_1_z_5))"
   ]
  },
  {
   "cell_type": "markdown",
   "id": "ffcce353",
   "metadata": {},
   "source": [
    "So now, we can calculate the PDF of any continuous function and evaluate its integral easily in `Python`.\n",
    "\n",
    "In the lecture, we defined two criteria that should be satisfied for a function to be a valid PDF:\n",
    "\n",
    "$$1. \\quad f(x) \\geq 0 \\text{ for all }x$$\n",
    "$$2. \\quad \\displaystyle \\int \\limits_{-\\infty} ^{+\\infty} f(x)dx=1$$\n",
    "\n",
    "We can check the first condition using `sum(PDF_z < 0) == 0`. If this returns `True`, then $f(x) \\geq 0$ for all $x$.\n",
    "\n",
    "We can check the second condition using `round(integrate.quad(PDF, 0, 10)[0],3) == 1`. If this returns `True`, then the PDF integrates to 1. **Note that we are integrating the PDF here from 0 to 10, because this is the range over which $z$ is defined.**\n",
    "\n",
    "Both conditions should be satisfied for a PDF to be valid. We can check that both conditions are satisfied using `(sum(PDF_z < 0) == 0) and (round(integrate.quad(PDF, 0, 10)[0],3) == 1)`. If both conditions are satisfied, this will return `True`. Otherwise, it will return `False`.\n",
    "\n",
    "Run the code cell below to check if the function in `PDF` is a valid PDF."
   ]
  },
  {
   "cell_type": "code",
   "execution_count": null,
   "id": "de17ac0a",
   "metadata": {},
   "outputs": [],
   "source": [
    "# check if this is a valid PDF\n",
    "\n",
    "(sum(PDF_z < 0) == 0) and (round(integrate.quad(PDF, 0, 10)[0],3) == 1)"
   ]
  },
  {
   "cell_type": "markdown",
   "id": "9c98e401",
   "metadata": {},
   "source": [
    "### Valid PDFs\n",
    "\n",
    "<font color='red'>**Question 12.**</font> Using the methods we used above to check if a PDF is valid, is the following function a valid PDF? Why or why not? You need to perform all calculations in `Python` rather than by hand. Select your answer from the options in the bCourses quiz.\n",
    "\n",
    "$$ f_W(w)=   \\left\\{\n",
    "\\begin{array}{ll}\n",
    "      \\frac{3}{4}(1-w^2) & 0 \\leq w \\leq 1\\\\\n",
    "      0 & otherwise\\\\\n",
    "\\end{array} \n",
    "\\right.  $$\n",
    "\n",
    "*Hint: First, define a function that calculates the PDF values using:*\n",
    "\n",
    "```python\n",
    "# define a function to calculate the PDF\n",
    "def PDF(w):\n",
    "    return ... # replace ... with the equation for f(w)\n",
    "```\n",
    "\n",
    "*Then, define an array `w` that includes the **possible** values based on the given range using `np.linspace()`.*\n",
    "\n",
    "*Finally, check if both conditions are satisfied for it be a valid PDF.*"
   ]
  },
  {
   "cell_type": "code",
   "execution_count": null,
   "id": "f08b0ae3",
   "metadata": {},
   "outputs": [],
   "source": [
    "# add your code below\n",
    "\n",
    "..."
   ]
  },
  {
   "cell_type": "markdown",
   "id": "ee9e19e8",
   "metadata": {},
   "source": [
    "## Air Particles\n",
    "\n",
    "Particles are a major component of air pollution, and are commonly described by their size. Let $Z$ represent the diameter, in micrometers ($\\mu m$ : $10^{-6} m$), of a randomly chosen particle. The probability density function of $Z$ is inversely proportional to the volume of the particle; that is:\n",
    "\n",
    "$$ f(z)=   \\left\\{\n",
    "\\begin{array}{ll}\n",
    "      \\Large\\frac{2}{z^3} & z \\geq 1\\\\\n",
    "      0 & otherwise\\\\\n",
    "\\end{array} \n",
    "\\right.  $$\n",
    "\n",
    "<font color='red'>**Question 13.**</font> One common measure of air quality is the Particulate Matter 2.5 ($PM_{2.5}$), which refers to particles 2.5 $\\mu m$ or less in diameter (i.e., $z<2.5$). Based on the PDF of $Z$, what proportion of the contaminating particles are $PM_{2.5}$? Use the `integrate.quad(PDF, a, b)[0]` function. Add your answer in the bCourses quiz."
   ]
  },
  {
   "cell_type": "code",
   "execution_count": null,
   "id": "1425848d",
   "metadata": {},
   "outputs": [],
   "source": [
    "# add your code below to calculate PM2.5\n",
    "\n",
    "# define PDF function\n",
    "# Keep its name PDF and add below the equation for f(z)\n",
    "def PDF(z):\n",
    "    return ...\n",
    "\n",
    "# calculate the probability\n",
    "..."
   ]
  },
  {
   "cell_type": "markdown",
   "id": "ef86a6eb",
   "metadata": {},
   "source": [
    "### Calculating Numerical Summaries \n",
    "\n",
    "In the lecture, we defined the mean of a continuous random variable as:\n",
    "\n",
    "$\\mu_Z=E[Z]= {\\displaystyle \\int \\limits_{-\\infty} ^{+\\infty} z f(z) dz}\\$\n",
    "\n",
    "We already defined a Python function named `PDF` to get $f(z)$. So to get the mean value, we can define a new function, say `function_mean`, that returns: $z f(z)$. Then, we can integrate the new function, `function_mean` using `integrate.quad()` to compute $\\mu_Z$.\n",
    "\n",
    "<font color='red'>**Question 14.**</font> What is the value of $\\mu_Z$? Add your answer in the bCourses quiz.\n",
    "\n",
    "*Hint: I already defined the new function for the mean, `function_mean`.*\n",
    "\n",
    "*You have to use `integrate.quad(function_mean, a, b)[0]` to calculate the mean by simply integrating `function_mean` (instead of integrating `PDF`) over the possible values of $z$. Because $z\\geq1$, set the upper limit for the integral equal to $10^6$.*"
   ]
  },
  {
   "cell_type": "code",
   "execution_count": null,
   "id": "008fd782",
   "metadata": {},
   "outputs": [],
   "source": [
    "# Define function for the mean\n",
    "def function_mean(z):\n",
    "    return z*PDF(z)\n",
    "\n",
    "# Use integrate.quad() to calculate the mean\n",
    "mean_Z = ..."
   ]
  },
  {
   "cell_type": "markdown",
   "id": "375bc3f0",
   "metadata": {},
   "source": [
    "We also defined the variance of a continuous random variable as:\n",
    "\n",
    "$\\sigma_Z^2=Var[Z]= {\\displaystyle \\int \\limits_{-\\infty} ^{+\\infty} (z-\\mu_Z)^2 f(z) dz }\\$\n",
    "\n",
    "In this case, if we wanted to use `integrate.quad()` to calculate variance, we have to define a function that returns: $(z-\\mu_Z)^2 f(z)$ and then integrate it.\n",
    "\n",
    "The inputs needed to evaluate this function are $z$ and $\\mu_Z$ as shown in the code below."
   ]
  },
  {
   "cell_type": "code",
   "execution_count": null,
   "id": "9345b6b5",
   "metadata": {},
   "outputs": [],
   "source": [
    "# Define function for the var\n",
    "def function_var(z, mean):\n",
    "    return (z-mean)**2*PDF(z)"
   ]
  },
  {
   "cell_type": "markdown",
   "id": "8a197fbb",
   "metadata": {},
   "source": [
    "When the function we want to integrate takes more than one input (e.g., `function_var()` which we defined above requires 2 inputs: `z` and `mean`), then to use `integrate.quad()`, we have to pass any additional inputs other than `z` as arguments to `integrate.quad()`. This is done as follows: `integrate.quad(function, a, b, args=())[0]`, where we add between the parentheses in `args=()` any inputs to the function we are integrating other than `z` (i.e., the mean in this case). See the code below for an example."
   ]
  },
  {
   "cell_type": "code",
   "execution_count": null,
   "id": "b164d3fc",
   "metadata": {},
   "outputs": [],
   "source": [
    "# calculate variance\n",
    "\n",
    "# to run this code, you should have already calculated mean_Z (keep its name mean_Z)\n",
    "# Note how we passed mean_Z between arg=()\n",
    "var_Z = integrate.quad(function_var, 1, 10**6, args = (mean_Z))[0]\n",
    "\n",
    "# print the output\n",
    "print('The variance of Z is: ', round(var_Z,3))"
   ]
  },
  {
   "cell_type": "markdown",
   "id": "68c34df4",
   "metadata": {},
   "source": [
    "<font color='red'>**Question 15.**</font> What is the value of $\\sigma_Z$? Add your answer in the bCourses quiz."
   ]
  },
  {
   "cell_type": "code",
   "execution_count": null,
   "id": "327f20e1",
   "metadata": {},
   "outputs": [],
   "source": [
    "# calculate standard deviation\n",
    "..."
   ]
  },
  {
   "cell_type": "markdown",
   "id": "cb0c60a4",
   "metadata": {},
   "source": [
    "Finally, let's visually evaluate the skewness of $Z$ by plotting its probability density function. We can simply plot the PDF by defining a reasonable range for the $z$ values (using for example, `np.linspace(start, stop, num)`) and then using `plt.plot(z,PDF(z))`.\n",
    "\n",
    "<font color='red'>**Question 16.**</font> Based on your plot of the PDF, what can you say about the skewness of $Z$? Add your answer in the bCourses quiz."
   ]
  },
  {
   "cell_type": "code",
   "execution_count": null,
   "id": "d3b4f70f",
   "metadata": {},
   "outputs": [],
   "source": [
    "# add your code below\n",
    "\n",
    "# create an array with z values\n",
    "z = ...\n",
    "\n",
    "# plot PDF\n",
    "...\n",
    "\n",
    "# display plot\n",
    "plt.show()"
   ]
  },
  {
   "cell_type": "markdown",
   "id": "d221b216",
   "metadata": {},
   "source": [
    "## Submit your work!\n",
    "\n",
    "<font color='red'>**Question 17.** </font> Submit your PDF file.\n",
    "\n",
    "I recommend that you save your .ipynb file and keep a copy of it so that you can refer to it in the future (e.g., when working on the project). \n",
    "\n",
    "Once done with answering ALL questions and you are ready to submit the quiz, follow these steps:\n",
    "\n",
    "1. Run all cells in the notebook. You can do this by going to Cell > Run All. This makes sure that all your visuals and answers show up in the file you submit.\n",
    "\n",
    "2. Then, go to \"File > Download as > PDF via LaTex(.pdf)\" to generate a PDF file. Name the PDF file with your last name \"Lastname.pdf\". \n",
    "\n",
    "3. If you have trouble generating the PDF file, go to \"File > Download as > PDF via HTML(.html)\" (last option in the drop down menu). Even if you click on PDF via HTML(.html), make sure that the downloaded file is '.pdf'.\n",
    "\n",
    "3. If you are using your own Python environment and are have trouble generating the PDF file from Jupyter notebook, use [datahub.berkeley.edu](http://datahub.berkeley.edu). Log in with your CalNet credentials. Upload the ipynb file with your outputs and results to Juptrer. Then follow step 2.\n",
    "\n",
    "4. Upload the PDF file to the bCourses quiz (more instructions there).\n",
    "\n",
    "\n",
    "**Not submitting a PDF file will result in a grade of 0 on this lab assignment.**\n",
    "**You will also receive a 0 if your answers to this quiz are inconsistent with your PDF.**"
   ]
  }
 ],
 "metadata": {
  "kernelspec": {
   "display_name": "Python 3 (ipykernel)",
   "language": "python",
   "name": "python3"
  },
  "language_info": {
   "codemirror_mode": {
    "name": "ipython",
    "version": 3
   },
   "file_extension": ".py",
   "mimetype": "text/x-python",
   "name": "python",
   "nbconvert_exporter": "python",
   "pygments_lexer": "ipython3",
   "version": "3.9.13"
  }
 },
 "nbformat": 4,
 "nbformat_minor": 5
}
