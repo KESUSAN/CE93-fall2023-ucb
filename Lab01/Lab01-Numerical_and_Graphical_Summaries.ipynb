{
 "cells": [
  {
   "cell_type": "markdown",
   "metadata": {
    "toc": true
   },
   "source": [
    "<h1>Table of Contents<span class=\"tocSkip\"></span></h1>\n",
    "<div class=\"toc\"><ul class=\"toc-item\"><li><span><a href=\"#Instructions\" data-toc-modified-id=\"Instructions-1\"><span class=\"toc-item-num\">1&nbsp;&nbsp;</span>Instructions</a></span></li><li><span><a href=\"#Load-the-required-libraries\" data-toc-modified-id=\"Load-the-required-libraries-2\"><span class=\"toc-item-num\">2&nbsp;&nbsp;</span>Load the required libraries</a></span></li><li><span><a href=\"#About-the-Lab\" data-toc-modified-id=\"About-the-Lab-3\"><span class=\"toc-item-num\">3&nbsp;&nbsp;</span>About the Lab</a></span><ul class=\"toc-item\"><li><span><a href=\"#Load-the-data\" data-toc-modified-id=\"Load-the-data-3.1\"><span class=\"toc-item-num\">3.1&nbsp;&nbsp;</span>Load the data</a></span></li><li><span><a href=\"#Dataframe-Shape\" data-toc-modified-id=\"Dataframe-Shape-3.2\"><span class=\"toc-item-num\">3.2&nbsp;&nbsp;</span>Dataframe Shape</a></span></li><li><span><a href=\"#Column-Labels\" data-toc-modified-id=\"Column-Labels-3.3\"><span class=\"toc-item-num\">3.3&nbsp;&nbsp;</span>Column Labels</a></span></li><li><span><a href=\"#Getting-Specific-Values\" data-toc-modified-id=\"Getting-Specific-Values-3.4\"><span class=\"toc-item-num\">3.4&nbsp;&nbsp;</span>Getting Specific Values</a></span></li><li><span><a href=\"#Create-Variables-from-the-DataFrame\" data-toc-modified-id=\"Create-Variables-from-the-DataFrame-3.5\"><span class=\"toc-item-num\">3.5&nbsp;&nbsp;</span>Create Variables from the DataFrame</a></span></li><li><span><a href=\"#Check-your-answer-to-Question-1.2.\" data-toc-modified-id=\"Check-your-answer-to-Question-1.2.-3.6\"><span class=\"toc-item-num\">3.6&nbsp;&nbsp;</span>Check your answer to Question 1.2.</a></span></li></ul></li><li><span><a href=\"#Get-Numerical-Summaries-Using-stats-Module\" data-toc-modified-id=\"Get-Numerical-Summaries-Using-stats-Module-4\"><span class=\"toc-item-num\">4&nbsp;&nbsp;</span>Get Numerical Summaries Using stats Module</a></span></li><li><span><a href=\"#Get-Numerical-Summaries-Using-numpy-Package\" data-toc-modified-id=\"Get-Numerical-Summaries-Using-numpy-Package-5\"><span class=\"toc-item-num\">5&nbsp;&nbsp;</span>Get Numerical Summaries Using numpy Package</a></span><ul class=\"toc-item\"><li><span><a href=\"#Why-Are-My-Values-Different?\" data-toc-modified-id=\"Why-Are-My-Values-Different?-5.1\"><span class=\"toc-item-num\">5.1&nbsp;&nbsp;</span>Why Are My Values Different?</a></span></li><li><span><a href=\"#Other-Numerical-Summaries-in-numpy:\" data-toc-modified-id=\"Other-Numerical-Summaries-in-numpy:-5.2\"><span class=\"toc-item-num\">5.2&nbsp;&nbsp;</span>Other Numerical Summaries in numpy:</a></span></li></ul></li><li><span><a href=\"#Other-Methods-to-Get-Numerical-Summaries\" data-toc-modified-id=\"Other-Methods-to-Get-Numerical-Summaries-6\"><span class=\"toc-item-num\">6&nbsp;&nbsp;</span>Other Methods to Get Numerical Summaries</a></span></li><li><span><a href=\"#Histogram-Plots-Using-matplotlib.pyplot\" data-toc-modified-id=\"Histogram-Plots-Using-matplotlib.pyplot-7\"><span class=\"toc-item-num\">7&nbsp;&nbsp;</span>Histogram Plots Using matplotlib.pyplot</a></span><ul class=\"toc-item\"><li><span><a href=\"#Histogram-Plot-with-bins=5\" data-toc-modified-id=\"Histogram-Plot-with-bins=5-7.1\"><span class=\"toc-item-num\">7.1&nbsp;&nbsp;</span>Histogram Plot with <code>bins=5</code></a></span></li><li><span><a href=\"#Label-your-axes!!\" data-toc-modified-id=\"Label-your-axes!!-7.2\"><span class=\"toc-item-num\">7.2&nbsp;&nbsp;</span>Label your axes!!</a></span></li><li><span><a href=\"#Try-Different-Bin-Numbers\" data-toc-modified-id=\"Try-Different-Bin-Numbers-7.3\"><span class=\"toc-item-num\">7.3&nbsp;&nbsp;</span>Try Different Bin Numbers</a></span></li><li><span><a href=\"#Histogram-Plot-with-Frequency,-Relative-Frequency,-and-Density:\" data-toc-modified-id=\"Histogram-Plot-with-Frequency,-Relative-Frequency,-and-Density:-7.4\"><span class=\"toc-item-num\">7.4&nbsp;&nbsp;</span>Histogram Plot with Frequency, Relative Frequency, and Density:</a></span></li></ul></li><li><span><a href=\"#Boxplots-Using-matplotlib.pyplot\" data-toc-modified-id=\"Boxplots-Using-matplotlib.pyplot-8\"><span class=\"toc-item-num\">8&nbsp;&nbsp;</span>Boxplots Using matplotlib.pyplot</a></span><ul class=\"toc-item\"><li><span><a href=\"#Boxplots-for-bod,-nit,-amm\" data-toc-modified-id=\"Boxplots-for-bod,-nit,-amm-8.1\"><span class=\"toc-item-num\">8.1&nbsp;&nbsp;</span>Boxplots for <code>bod</code>, <code>nit</code>, <code>amm</code></a></span></li></ul></li><li><span><a href=\"#Scatter-Plots-Using-matplotlib.pyplot\" data-toc-modified-id=\"Scatter-Plots-Using-matplotlib.pyplot-9\"><span class=\"toc-item-num\">9&nbsp;&nbsp;</span>Scatter Plots Using matplotlib.pyplot</a></span><ul class=\"toc-item\"><li><span><a href=\"#Scatterplot-for-bod-and-nit\" data-toc-modified-id=\"Scatterplot-for-bod-and-nit-9.1\"><span class=\"toc-item-num\">9.1&nbsp;&nbsp;</span>Scatterplot for <code>bod</code> and <code>nit</code></a></span></li></ul></li><li><span><a href=\"#Submit-your-work!\" data-toc-modified-id=\"Submit-your-work!-10\"><span class=\"toc-item-num\">10&nbsp;&nbsp;</span>Submit your work!</a></span></li></ul></div>"
   ]
  },
  {
   "cell_type": "markdown",
   "metadata": {},
   "source": [
    "# CE 93: Engineering Data Analysis\n",
    "# Lab 01: Numerical and Graphical Summaries of Data"
   ]
  },
  {
   "cell_type": "markdown",
   "metadata": {},
   "source": [
    "**Full Name:** *replace text here*"
   ]
  },
  {
   "cell_type": "markdown",
   "metadata": {},
   "source": [
    "## Instructions \n",
    "\n",
    "Welcome to Lab 01! \n",
    "\n",
    "Please save your work after every question! At the end, you will have to submit your Jupyter Notebook as a PDF file in the bCourses quiz. The notebook should be consistent with your quiz answers. Not submitting a PDF file will result in a grade of 0 on the lab assignment. You will also receive a 0 if your answers to the quiz are inconsistent with your PDF.\n",
    "\n",
    "If you see cells with \"...\" make sure to replace the \"...\" with your code even if they are not listed with a \"Question\". \n",
    "Please remember to label all axes with the quantity and units being plotted. \n",
    "\n",
    "Any part listed as a \"<font color='red'>**Question**</font>\" should be answered in the bCourses quiz to receive credit."
   ]
  },
  {
   "cell_type": "markdown",
   "metadata": {},
   "source": [
    "We will use the following Python packages:\n",
    "\n",
    "* NumPy\n",
    "* pandas\n",
    "* MatPlotLib\n",
    "* statistics\n",
    "* scipy"
   ]
  },
  {
   "cell_type": "markdown",
   "metadata": {},
   "source": [
    "## Load the required libraries \n",
    "\n",
    "The following code loads the required libraries. Run this cell first."
   ]
  },
  {
   "cell_type": "code",
   "execution_count": 1,
   "metadata": {
    "ExecuteTime": {
     "end_time": "2023-08-25T07:39:12.279699Z",
     "start_time": "2023-08-25T07:39:09.765140Z"
    }
   },
   "outputs": [
    {
     "name": "stderr",
     "output_type": "stream",
     "text": [
      "/Users/liuke/opt/anaconda3/lib/python3.9/site-packages/scipy/__init__.py:146: UserWarning: A NumPy version >=1.16.5 and <1.23.0 is required for this version of SciPy (detected version 1.24.3\n",
      "  warnings.warn(f\"A NumPy version >={np_minversion} and <{np_maxversion}\"\n"
     ]
    }
   ],
   "source": [
    "# import python library / packages \n",
    "import numpy as np                           # ndarrays for gridded data\n",
    "import pandas as pd                          # DataFrames for tabular data\n",
    "import matplotlib.pyplot as plt              # plotting\n",
    "import statistics as stats                   # statistics like mode\n",
    "import scipy                                 # statistics"
   ]
  },
  {
   "cell_type": "markdown",
   "metadata": {},
   "source": [
    "## About the Lab\n",
    "In this lab, we will be working with a data set of Biochemical oxygen demand (BOD), Nitrates, and Ammonia measurements along the Blackwater River. Biochemical oxygen demand, or BOD, is a measurement of the amount of oxygen consumed by the microorganisms in decomposing organic matter in some volume of water. Additionally, BOD can also be used to measure the extraction of oxygen from water via oxidation of inorganic matter, a chemical reaction as opposed to a biological one. \n",
    "\n",
    " <img src=\"figure1.png\">\n",
    " \n",
    " From EPA: Water Monitoring and Assessment: \n",
    "“BOD directly affects the amount of dissolved oxygen in rivers and streams. The greater the BOD, the more rapidly oxygen is depleted in the stream. This means less oxygen is available to higher forms of aquatic life. The consequences of high BOD are the same as those for low dissolved oxygen: aquatic organisms become stressed, suffocate, and die.”\n",
    "\n",
    "\n",
    "Nitrates are a very common contaminant of drinking water, especially in rural areas near agriculture. The primary sources of nitrate contamination are fertilizer, sewage, and manure. Federal regulations for nitrates were put in place because high nitrate levels can result in methemoglobinemia, or \"blue baby\" disease. They are also an indicator for other major agricultural contaminants, such as pesticides and bacteria. \n",
    "\n",
    "\n",
    "Ammonia in waterways is the result of industrial processes, wastes, and fertilizers, as well as a byproduct of drinking water disinfection with chloramines. Ammonia is toxic for aquatic life, especially in oxygen-poor environments.\n",
    "\n",
    "\n",
    "For Civil and Environmental Engineers, BOD, Nitrates, and Ammonia measurements are critical to protect the health of waterways that are impacted by various organic and inorganic pollution. The consequences of high BOD could be species depletion, damaged ecosystems, polluted water, regulatory challenges, and criminal investigations.  "
   ]
  },
  {
   "cell_type": "markdown",
   "metadata": {},
   "source": [
    "### Load the data\n",
    "\n",
    "Let's load the provided data set `nutrients.csv`. These are all the features:\n",
    "\n",
    "|Feature|Units|Description|\n",
    "|:-|:-|:-|\n",
    "|BOD|mg/L|Biochemical oxygen demand measurements|\n",
    "|Nitrates|mg/L|Nitrates measurements|\n",
    "|Ammonia|mg/L|Ammonia measurements|\n",
    "\n",
    "* load using the Pandas `read_csv()` function"
   ]
  },
  {
   "cell_type": "code",
   "execution_count": 2,
   "metadata": {
    "ExecuteTime": {
     "end_time": "2023-08-25T07:39:12.328491Z",
     "start_time": "2023-08-25T07:39:12.288245Z"
    }
   },
   "outputs": [
    {
     "data": {
      "text/html": [
       "<div>\n",
       "<style scoped>\n",
       "    .dataframe tbody tr th:only-of-type {\n",
       "        vertical-align: middle;\n",
       "    }\n",
       "\n",
       "    .dataframe tbody tr th {\n",
       "        vertical-align: top;\n",
       "    }\n",
       "\n",
       "    .dataframe thead th {\n",
       "        text-align: right;\n",
       "    }\n",
       "</style>\n",
       "<table border=\"1\" class=\"dataframe\">\n",
       "  <thead>\n",
       "    <tr style=\"text-align: right;\">\n",
       "      <th></th>\n",
       "      <th>BOD(mg/L)</th>\n",
       "      <th>Nitrates(mg/L)</th>\n",
       "      <th>Ammonia(mg/L)</th>\n",
       "    </tr>\n",
       "  </thead>\n",
       "  <tbody>\n",
       "    <tr>\n",
       "      <th>0</th>\n",
       "      <td>2.27</td>\n",
       "      <td>1.97</td>\n",
       "      <td>0.11</td>\n",
       "    </tr>\n",
       "    <tr>\n",
       "      <th>1</th>\n",
       "      <td>4.41</td>\n",
       "      <td>12.83</td>\n",
       "      <td>0.61</td>\n",
       "    </tr>\n",
       "    <tr>\n",
       "      <th>2</th>\n",
       "      <td>4.03</td>\n",
       "      <td>11.11</td>\n",
       "      <td>0.53</td>\n",
       "    </tr>\n",
       "    <tr>\n",
       "      <th>3</th>\n",
       "      <td>3.75</td>\n",
       "      <td>9.86</td>\n",
       "      <td>0.47</td>\n",
       "    </tr>\n",
       "    <tr>\n",
       "      <th>4</th>\n",
       "      <td>3.37</td>\n",
       "      <td>9.54</td>\n",
       "      <td>0.62</td>\n",
       "    </tr>\n",
       "  </tbody>\n",
       "</table>\n",
       "</div>"
      ],
      "text/plain": [
       "   BOD(mg/L)  Nitrates(mg/L)  Ammonia(mg/L)\n",
       "0       2.27            1.97           0.11\n",
       "1       4.41           12.83           0.61\n",
       "2       4.03           11.11           0.53\n",
       "3       3.75            9.86           0.47\n",
       "4       3.37            9.54           0.62"
      ]
     },
     "execution_count": 2,
     "metadata": {},
     "output_type": "execute_result"
    }
   ],
   "source": [
    "# read a .csv file in as a DataFrame\n",
    "df = pd.read_csv('nutrients.csv')\n",
    "\n",
    "# returns the first 5 rows of the data set by default\n",
    "df.head()"
   ]
  },
  {
   "cell_type": "markdown",
   "metadata": {},
   "source": [
    "### Dataframe Shape\n",
    "\n",
    "Let's check the shape (number of rows and columns) of our data set\n",
    "\n",
    "To get the shape of a DataFrame, use `DataFrame.shape`, where `DaraFrame` should be replaced with the name of your data (see the cell above). The `.shape` attribute returns (rows, columns)."
   ]
  },
  {
   "cell_type": "markdown",
   "metadata": {},
   "source": [
    "<font color='red'>**Question 1.1.**</font> What is the shape of this data set?\n",
    "\n",
    "Replace the \"...\" with your code."
   ]
  },
  {
   "cell_type": "code",
   "execution_count": null,
   "metadata": {},
   "outputs": [],
   "source": [
    "# return the dataframe shape\n",
    "..."
   ]
  },
  {
   "cell_type": "markdown",
   "metadata": {},
   "source": [
    "### Column Labels\n",
    "\n",
    "Each column in a DataFrame has a label/name. Getting column labels is useful when you want to access a specific column by name.\n",
    "Let's check the column labels of the Dataframe\n",
    "\n",
    "* using the `.columns` attribute\n",
    "\n",
    "The column labels will appear between square brackets after running the cell below."
   ]
  },
  {
   "cell_type": "code",
   "execution_count": null,
   "metadata": {},
   "outputs": [],
   "source": [
    "# return the column labels of the Dataframe\n",
    "df.columns"
   ]
  },
  {
   "cell_type": "markdown",
   "metadata": {},
   "source": [
    "So we have three columns, with labels: \n",
    "1. 'BOD(mg/L)'\n",
    "2. 'Nitrates(mg/L)'\n",
    "3. 'Ammonia(mg/L)'"
   ]
  },
  {
   "cell_type": "markdown",
   "metadata": {},
   "source": [
    "### Getting Specific Values\n",
    "\n",
    "If you want to get a specific value from the DataFrame (formally known as indexing), let's say the value for row 10 and column 10, you can NOT simply use `DataFrame[9, 9]`, like you would for a numpy array.\n",
    "\n",
    "So let's see how to do it. There are multiple ways to select and index rows and columns from DataFrames. You could use the column labels from above instead of the column number.\n",
    "\n",
    "You can index a DataFrame using `DataFrame['column label'][row]`. This will return the value of the column 'column label' at row = row + 1. Remember that Python is 0-indexed. So [0] corresponds to the first row, [1] corresponds to the second row, so on. You need to use the exact column label (aka, name). You can refer to the output above for the three column labels of our DataFrame.\n",
    "\n",
    "So, if we want the Nitrate value for the fifth row, we would use: `df['Nitrates(mg/L)'][4]` or `df[df.columns[1]][4]` (both will return same answer).\n",
    "* Note that we are using `[4]` to get the fifth column because Python is 0-indexed.\n",
    "* Note that we are using `df.columns[1]` because Nitrates are in the second column of the DataFrame (again, 0-indexing).\n",
    "\n",
    "There are more ways to index a DataFrame, but we will use this for now."
   ]
  },
  {
   "cell_type": "markdown",
   "metadata": {},
   "source": [
    "<font color='red'>**Question 1.2.**</font> What is the BOD in mg/L for the 30$^{th}$ row? You can refer to the column labels in the previous code cell. You can see that the first label is for BOD, so BOD is in the first column.\n",
    "\n",
    "Replace the \"...\" with your code.\n",
    "\n",
    "You now have the answers to Question 1 of the quiz. Go back to bCourses and start the quiz to answer the first question."
   ]
  },
  {
   "cell_type": "code",
   "execution_count": null,
   "metadata": {},
   "outputs": [],
   "source": [
    "# Get cell value using column label and row position\n",
    "..."
   ]
  },
  {
   "cell_type": "markdown",
   "metadata": {},
   "source": [
    "### Create Variables from the DataFrame\n",
    "\n",
    "We will be working with different columns of the DataFrame (biochemical oxygen demand, nitrates, and ammonia). So, let's create different variables for each column in the Dataframe.\n",
    "\n",
    "* Create a variable `bod` for biochemical oxygen demand\n",
    "* Create a variable `nit` for nitrates\n",
    "* Create a variable `amm` for ammonia\n",
    "\n",
    "We can do this in two different ways.\n",
    "* Using `DataFrame['column label']`\n",
    "* Or if you don't want to type out the full column labels, you can use `DataFrame[DataFrame.columns[column]]`, where [column] would be the integer index of the column you want. Remember, indexing starts at 0!\n",
    "\n",
    "Replace the \"...\" with your code."
   ]
  },
  {
   "cell_type": "code",
   "execution_count": null,
   "metadata": {},
   "outputs": [],
   "source": [
    "# create variables for biochemical oxygen demand, nitrates, and ammonia\n",
    "# bod is already created for you\n",
    "# replace ... with your code to create nit and amm\n",
    "\n",
    "bod = df[df.columns[0]] # or df['BOD(mg/L)']\n",
    "nit = ...\n",
    "amm = ..."
   ]
  },
  {
   "cell_type": "markdown",
   "metadata": {},
   "source": [
    "### Check your answer to Question 1.2.\n",
    "\n",
    "You can check your answer to Question 1.2. using `bod[row]`, where row would be the **index** (i.e., row number - 1) of the row you are interested in."
   ]
  },
  {
   "cell_type": "code",
   "execution_count": null,
   "metadata": {},
   "outputs": [],
   "source": [
    "# return BOD value for the 30th row\n",
    "..."
   ]
  },
  {
   "cell_type": "markdown",
   "metadata": {},
   "source": [
    "## Get Numerical Summaries Using stats Module\n",
    "\n",
    "In this part, we will calculate different measures of central tendency and variability for the `nit` data using the `stats` module.\n",
    "\n",
    "* Use the `stats.mean()` function to get mean value\n",
    "* Use the `stats.median()` function to get median\n",
    "* Use the `stats.variance()` function to get sample variance\n",
    "* Use the `stats.stdev()` function to get sample standard deviation\n",
    "* (Not required in the questions) You can use the `stats.mode()` function to get mode\n",
    "\n",
    "So, to get the mode of ammonia, we can use `stats.mode(amm)`, where `amm` is the name of the variable you created above that includes the ammonia measurements.\n",
    "\n",
    "Go back to bCourses to answer the questions below after you update the code cell.\n",
    "\n",
    "<font color='red'>**Question 2.**</font> What is the mean of nitrates? Add your answer in the bCourses quiz.\n",
    "\n",
    "<font color='red'>**Question 3.**</font> Calculate the median of nitrates, then use logic operators in Python (>, <, ==) to compare the mean and median values. Select your answer form the options in bCourses.\n",
    "\n",
    "<font color='red'>**Question 4.**</font> What is the variance of nitrates? Select your answer in the bCourses quiz.\n",
    "\n",
    "<font color='red'>**Question 5.**</font> What is the standard deviation of nitrates? Add your answer in the bCourses quiz.\n",
    "\n",
    "<font color='red'>**Question 6.**</font> What is the coefficient of variation of nitrates? Add your answer in the bCourses quiz.\n",
    "\n",
    "<font color='red'>**Question 7.**</font> What is the unit of the coefficient of variation of nitrates? Select your answer form the options in bCourses."
   ]
  },
  {
   "cell_type": "code",
   "execution_count": null,
   "metadata": {},
   "outputs": [],
   "source": [
    "# calculate the mean of nitrates\n",
    "...\n",
    "\n",
    "# calculate the median of nitrates\n",
    "...\n",
    "\n",
    "# compare the mean and median of nitrates\n",
    "...\n",
    "\n",
    "# calculate the variance of nitrates\n",
    "...\n",
    "\n",
    "# calculate the stdev of nitrates\n",
    "...\n",
    "\n",
    "# calculate the coefficient of variation of nitrates\n",
    "..."
   ]
  },
  {
   "cell_type": "markdown",
   "metadata": {},
   "source": [
    "## Get Numerical Summaries Using numpy Package\n",
    "\n",
    "Numerical summaries can also be calculated using the `numpy` package. However, it is important to understand any possible differences between packages. Let's look at an example also for the `nit` data.\n",
    "\n",
    "* Use the `np.std()` function with the default parameters\n",
    "\n",
    "<font color='red'>**Question 8.**</font> What is the standard deviation of nitrates when you use `np.std()`? Add your answer in the bCourses quiz."
   ]
  },
  {
   "cell_type": "code",
   "execution_count": null,
   "metadata": {},
   "outputs": [],
   "source": [
    "# calculate the stdev of nitrates using np.std()\n",
    "..."
   ]
  },
  {
   "cell_type": "markdown",
   "metadata": {},
   "source": [
    "### Why Are My Values Different?\n",
    "\n",
    "If you got slightly different values from `stats.stdev()` and `np.std()`, do not freak out! If you got the same values, you did something wrong, so go back.\n",
    "\n",
    "Let's try to understand this difference.\n",
    "\n",
    "To answer the next question, you need to understand how `np.std()` works. You can read more about it [here](https://numpy.org/doc/stable/reference/generated/numpy.std.html).\n",
    "\n",
    "<font color='red'>**Question 9.**</font> Why are your values different from `stats.stdev()` and `np.std()` different? Select your answer(s) form the options in bCourses."
   ]
  },
  {
   "cell_type": "markdown",
   "metadata": {},
   "source": [
    "### Other Numerical Summaries in numpy:\n",
    "\n",
    "The `numpy` package has other functions for numerical summaries.\n",
    "\n",
    "<font color='red'>**Question 10.**</font> Which of the following `numpy` functions exist to calculate numerical summaries similar to the `stats` module? Select your answer(s) form the options in bCourses.\n",
    "* `np.mean()`\n",
    "* `np.median()`\n",
    "* `np.mode()`\n",
    "\n",
    "If a function does not exist and you try to run it, you will simply get an error. If that happens, add a '#' before the code to comment this line and not run it. You should submit your PDF file at the end with no errors, so make sure to comment any functions that do not exist in `numpy`."
   ]
  },
  {
   "cell_type": "code",
   "execution_count": null,
   "metadata": {},
   "outputs": [],
   "source": [
    "# Try to calculate mean using numpy\n",
    "...\n",
    "\n",
    "# Try to calculate median using numpy\n",
    "...\n",
    "\n",
    "# Try to calculate mode using numpy\n",
    "..."
   ]
  },
  {
   "cell_type": "markdown",
   "metadata": {},
   "source": [
    "## Other Methods to Get Numerical Summaries\n",
    "\n",
    "There are other packages besides `stats` and `numpy` to get numerical summaries. Always make sure you understand the default parameters and check your values using different packages when in doubt.\n",
    "\n",
    "Finally, let's use the `describe()` function of Dataframes to get several descriptive statistics for the `nit` data.\n",
    "\n",
    "* Use the `DataFrame.describe()` function with the default parameters\n",
    "\n",
    "You can read more about it here: [`DataFrame.describe()`](https://pandas.pydata.org/docs/reference/api/pandas.DataFrame.describe.html).\n",
    "\n",
    "<font color='red'>**Question 11.**</font> Which of the following is(are) output(s), by default, of the `describe()` function. Select your answer(s) form the options in bCourses.\n",
    "* Mean\n",
    "* Median\n",
    "* Mode\n",
    "* 25th percentile\n",
    "\n",
    "You can simply run it on the `nit` data and check the output to answer this question."
   ]
  },
  {
   "cell_type": "code",
   "execution_count": null,
   "metadata": {},
   "outputs": [],
   "source": [
    "# get descriptive statistics for nitrates using DataFrame.describe(), and replace DataFrame with the variable you want\n",
    "..."
   ]
  },
  {
   "cell_type": "markdown",
   "metadata": {},
   "source": [
    "## Histogram Plots Using matplotlib.pyplot\n",
    "\n",
    "In this part, we will plot histograms for the `bod` data using `matplotlib.pyplot`.\n",
    "\n",
    "* Read more about `plt.hist()` [here](https://matplotlib.org/stable/api/_as_gen/matplotlib.pyplot.hist.html).\n",
    "* You can also run `?plt.hist` in a code cell to read more about it\n",
    "* You will need to understand the following parameters to solve the next questions:\n",
    "    * bins\n",
    "    * weights\n",
    "\n",
    "Note: If you scroll to the top of the code, where we loaded the required libraries, you can see that we used: `import matplotlib.pyplot as plt`\n",
    "\n",
    "Thus, in your code, you can simply replace matplotlib.pyplot by plt.\n",
    "\n",
    "So instead of `matplotlib.pyplot.hist()`, you **should** use `plt.hist()`.\n",
    "\n",
    "### Histogram Plot with `bins=5`\n",
    "\n",
    "Plot a histogram for the `bod` data with `bins=5`. To clearly see the bars, you can specify the edge color of the bins as follows, where `k` stands for black:\n",
    "* `plt.hist(bod, bins=5, ec='k')`\n",
    "\n",
    "<font color='red'>**Question 12.**</font> What is the maximum frequency that you observe and for how many bins? Select your answer(s) form the options in bCourses."
   ]
  },
  {
   "cell_type": "code",
   "execution_count": null,
   "metadata": {},
   "outputs": [],
   "source": [
    "# learn more about matplotlib.pyplot.hist\n",
    "?plt.hist"
   ]
  },
  {
   "cell_type": "code",
   "execution_count": null,
   "metadata": {},
   "outputs": [],
   "source": [
    "# plot a histogram of BOD using bins = 5 (simply copy the line of code from the text above)\n",
    "...\n",
    "\n",
    "# display all figures\n",
    "plt.show()"
   ]
  },
  {
   "cell_type": "markdown",
   "metadata": {},
   "source": [
    "### Label your axes!!\n",
    "\n",
    "Whenever you are presenting a plot, whether for a lab, homework, or project (and in your professional career), ALWAYS label your axes and add units where relevant. You can also add a title to your plot.\n",
    "\n",
    "Let's re-plot the histogram for the `bod`, now adding axes labels and controlling the appearance of the figure. Run the code below to check it out! In all of the remaining figures, follow a similar format."
   ]
  },
  {
   "cell_type": "code",
   "execution_count": null,
   "metadata": {},
   "outputs": [],
   "source": [
    "#initialize figure\n",
    "#(5,5) is width by height\n",
    "plt.figure(figsize=(5,5))\n",
    "\n",
    "# specify number of bins\n",
    "N = 5\n",
    "\n",
    "# plot histogram wiht bins = N\n",
    "plt.hist(bod, bins=N, ec='black')\n",
    "\n",
    "# add title\n",
    "plt.title('5 Bins bod histogram')\n",
    "\n",
    "# add label for x-axis\n",
    "plt.xlabel('BOD(mg/L)')\n",
    "\n",
    "# add label for y-axis\n",
    "plt.ylabel('Frequency')\n",
    "\n",
    "# display all figures\n",
    "plt.show()"
   ]
  },
  {
   "cell_type": "markdown",
   "metadata": {},
   "source": [
    "### Try Different Bin Numbers\n",
    "\n",
    "<font color='red'>**Question 13.**</font> Make three histograms for the `bod` using (a) `bins = 2`, (b) `bins = 10`, and (c) `bins = 50`. Which number of bins is optimal for this dataset? Select your answer form the options in bCourses."
   ]
  },
  {
   "cell_type": "code",
   "execution_count": null,
   "metadata": {},
   "outputs": [],
   "source": [
    "# Edit the code below to make three histogram subplots in 1 figure (only edit where you have ...)\n",
    "# One way to do so is using fig.add_subplot(nrows, ncols, index)\n",
    "# This will add a subplot that will take the index position on a grid with with nrows rows and ncols columns. \n",
    "# index in this case starts at 1 in the upper left corner and increases to the right\n",
    "\n",
    "# I am providing you with many of the commands here for you to practice.\n",
    "\n",
    "# initialize figure with (12,4) is width by height\n",
    "fig = plt.figure(figsize=[12,4])\n",
    "\n",
    "# create an empty array axs to append to it each new subplot\n",
    "axs = []\n",
    "\n",
    "# add/append first subplot in a 1x3 grid (1 row, 3 columns)\n",
    "axs.append(fig.add_subplot(1,3,1))\n",
    "\n",
    "# specify number of bins for first subplot\n",
    "N = 2\n",
    "\n",
    "# Create the first subplot below, with title and axes labels\n",
    "# to make sure we are plotting on the first subplot, we use axs[0]\n",
    "# here you will use axs[0].hist to plot, axs[0].set_title to set the title etc.\n",
    "axs[0].hist(bod, bins=N, ec='black')\n",
    "axs[0].set_title('2 Bins bod histogram')\n",
    "axs[0].set_xlabel('BOD(mg/L)')\n",
    "axs[0].set_ylabel('Frequency')\n",
    "\n",
    "####################################################################################################\n",
    "\n",
    "# add/append second subplot in a 1x3 grid\n",
    "# Note that now we are using index 2: (1,3,2), where the lats number (2) indicates it is the second subplot on the 1x3 grid\n",
    "axs.append(fig.add_subplot(1,3,2))\n",
    "\n",
    "# specify number of bins for second subplot (see code above and update it as needed)\n",
    "...\n",
    "\n",
    "# Create your second subplot below, with title and axes labels\n",
    "# here you will use axs[1].hist to plot, axs[1].set_title to set the title etc. where axs[1] calls the second subplot\n",
    "# See code above and modify as needed\n",
    "...\n",
    "\n",
    "####################################################################################################\n",
    "\n",
    "# add/append third subplot in a 1x3 grid\n",
    "# Note that now we should use index 3: (1,3,3)\n",
    "# See code above for when we added first and second subplots and modify it\n",
    "...\n",
    "\n",
    "# specify number of bins for third subplot (see code above and update it as needed)\n",
    "...\n",
    "\n",
    "# Create your third subplot below, with title and axes labels\n",
    "# here you will use axs[2].hist to plot, axs[2].set_title to set the title etc. where axs[2] calls the third subplot\n",
    "# See code above and modify as needed\n",
    "...\n",
    "\n",
    "# display all figures\n",
    "plt.show()"
   ]
  },
  {
   "cell_type": "markdown",
   "metadata": {},
   "source": [
    "### Histogram Plot with Frequency, Relative Frequency, and Density:\n",
    "\n",
    "So far, we have been specifying the total number of bins, which results in equal bin widths. You can alternatively specify the values for the bin edges, and thus, assign unequal bin widths. So in this part, we will `bins=[2.2, 2.5, 3.2, 3.3, 3.8, 4.5]`, which again specifies the edges of the bins.\n",
    "\n",
    "Also, by default, `plt.hist()` plots the frequency (i.e., count of the number of sample data that fall into each bin). We can alternatively plot proportions (i.e., relative frequency: frequency/sample size) or densities (proportions/bin width).\n",
    "\n",
    "Modify the code below and plot, in the same figure, three histograms for `bod` all using `bins=[2.2, 2.5, 3.2, 3.3, 3.8, 4.5]`, such that:\n",
    "\n",
    "1. The first plot should have frequency on the y-axis (similar to before): `plt.hist(bod, ec='black', bins=[2.2, 2.5, 3.2, 3.3, 3.8, 4.5])`\n",
    "2. The second (middle) plot should have relative frequency on the y-axis. For this, you need to add between parentheses the parameter `weights=np.ones_like(bod)/len(bod)`, in addition to specifying the bins as defined above. This simply multiplies the data by 1/sample size, which would give us proportions.\n",
    "3. The third plot should have density on the y-axis. For this, you need to to add between parentheses `density=True` (do not specify weights), in addition to specifying the bins as defined above.\n",
    "\n",
    "Make sure you label the y-axes correctly for each plot. Also, add a title for each plot.\n",
    "\n",
    "After generating the plot, right click on it and click 'Save image as' to download your figure as an image.\n",
    "\n",
    "<font color='red'>**Question 14.**</font> Upload your figure to bCourses using the instructions there.\n",
    "\n",
    "<font color='red'>**Question 15.**</font> Based on your plot of frequency, relative frequency, and density using the given bin edges, what you can you tell about these plots? Select your answer(s) form the options in bCourses."
   ]
  },
  {
   "cell_type": "code",
   "execution_count": null,
   "metadata": {},
   "outputs": [],
   "source": [
    "# Edit the code below to make three histogram subplots in 1 figure (only edit where you have ...)\n",
    "\n",
    "# I am providing you with many of the commands here for you to practice.\n",
    "\n",
    "# initialize figure with (12,4) is width by height\n",
    "fig = plt.figure(figsize=[12,4])\n",
    "\n",
    "# create an empty array axs to append to it each new subplot\n",
    "axs = []\n",
    "\n",
    "# add/append first subplot in a 1x3 grid\n",
    "axs.append(fig.add_subplot(1,3,1))\n",
    "\n",
    "# specify bins edges (same for all three subplots)\n",
    "bins= [2.2, 2.5, 3.2, 3.3, 3.8, 4.5]\n",
    "\n",
    "# Create the first subplot below, with title and axes labels\n",
    "# to make sure we are plotting on the first subplot, we use axs[0]\n",
    "# here you will use axs[0].hist to plot, axs[0].set_title to set the title etc.\n",
    "axs[0].hist(bod, bins=bins, ec='black')\n",
    "axs[0].set_title('Frequency bod histogram')\n",
    "axs[0].set_xlabel('BOD(mg/L)')\n",
    "axs[0].set_ylabel('Frequency')\n",
    "\n",
    "####################################################################################################\n",
    "\n",
    "# add/append second subplot in a 1x3 grid\n",
    "# Note that now we should use index 2: (1,3,2)\n",
    "# See code above for when we added first subplot and modify it\n",
    "...\n",
    "\n",
    "# Create your second subplot below, with CORRECT title and axes labels\n",
    "# here you will use axs[1].hist to plot, axs[1].set_title to set the title etc. where axs[1] calls the second subplot\n",
    "# See code above and modify as needed\n",
    "# For this subplot, you need to use: axs[1].hist(bod, bins=bins, ec='black', weights=np.ones_like(bod)/float(len(bod)))\n",
    "...\n",
    "\n",
    "####################################################################################################\n",
    "\n",
    "# add/append third subplot in a 1x3 grid\n",
    "# Note that now we should use index 3: (1,3,3)\n",
    "# See code above for when we added first and second subplots and modify it\n",
    "...\n",
    "\n",
    "# Create your third subplot below, with CORRECT title and axes labels\n",
    "# here you will use axs[2].hist to plot, axs[2].set_title to set the title etc. where axs[2] calls the third subplot\n",
    "# See code above and modify as needed\n",
    "# For this subplot, you need to use: axs[2].hist(bod, bins=bins, ec='black', density=True)\n",
    "...\n",
    "\n",
    "# display all figures\n",
    "plt.show()"
   ]
  },
  {
   "cell_type": "markdown",
   "metadata": {},
   "source": [
    "## Boxplots Using matplotlib.pyplot\n",
    "\n",
    "Boxplots can be plotted using the [`plt.boxplot()`](https://matplotlib.org/stable/api/_as_gen/matplotlib.pyplot.boxplot.html) function.\n",
    "\n",
    "Let's look at an example. We will plot three boxplots for random data `a`, `b`, and `c`."
   ]
  },
  {
   "cell_type": "code",
   "execution_count": null,
   "metadata": {},
   "outputs": [],
   "source": [
    "# randomly generate an array with 100 numbers\n",
    "a = np.random.randn(100)\n",
    "\n",
    "# randomly generate another array with 100 numbers\n",
    "b = 2*(np.random.randn(100)+1)\n",
    "\n",
    "# randomly generate another array with 100 numbers\n",
    "c = 2*(np.random.randn(100)+1)\n",
    "\n",
    "#initialize figure\n",
    "fig = plt.figure() \n",
    "axs = []\n",
    "\n",
    "#boxplot of dataset 'a'\n",
    "axs.append(fig.add_subplot(131)) #first subplot\n",
    "axs[0].boxplot(a)\n",
    "axs[0].set_title('boxplot of a')\n",
    "axs[0].set_ylabel('a')\n",
    "\n",
    "#boxplot of dataset 'b'\n",
    "axs.append(fig.add_subplot(132)) #second subplot\n",
    "axs[1].boxplot(b)\n",
    "axs[1].set_title('boxplot of b')\n",
    "axs[1].set_ylabel('b')\n",
    "\n",
    "#boxplot of dataset 'c'\n",
    "axs.append(fig.add_subplot(133)) #second subplot\n",
    "axs[2].boxplot(c)\n",
    "axs[2].set_title('boxplot of c')\n",
    "axs[2].set_ylabel('c')\n",
    "\n",
    "plt.tight_layout()\n",
    "plt.show()"
   ]
  },
  {
   "cell_type": "markdown",
   "metadata": {},
   "source": [
    "If we wish to compare the boxplots of `a`, `b`, and `c`, we should plot them on the same figure. Notice that the values for the y-axes above are different, and thus, the above plots are not an effective way to compare `a`, `b`, and `c`.\n",
    "\n",
    "Let's plot all boxplots together. This will provide a better graphical representation because we can effectively compare all data sets."
   ]
  },
  {
   "cell_type": "code",
   "execution_count": null,
   "metadata": {},
   "outputs": [],
   "source": [
    "# useful in comparing multiple data sets\n",
    "fig = plt.figure() \n",
    "\n",
    "# boxplot of a, b, and c in one plot\n",
    "plt.boxplot([a,b,c])\n",
    "plt.title('boxplot of a, b, & c')\n",
    "plt.xticks(ticks=[1,2,3], labels=[\"a\", \"b\", \"c\"])\n",
    "plt.ylabel('Values (units)')\n",
    "\n",
    "plt.tight_layout()\n",
    "plt.show()"
   ]
  },
  {
   "cell_type": "markdown",
   "metadata": {},
   "source": [
    "### Boxplots for `bod`, `nit`, `amm` \n",
    "\n",
    "<font color='red'>**Question 16.**</font> Create boxplots for `bod`, `nit`, `amm` **in the same plot**. Based on your boxplots for `bod`, `nit`, and `amm`, what you can you tell? Select your answer(s) form the options in bCourses."
   ]
  },
  {
   "cell_type": "code",
   "execution_count": null,
   "metadata": {},
   "outputs": [],
   "source": [
    "# Add your code below\n",
    "# You can simply copy the code above and edit it to plot boxplots for bod, nit, and amm\n",
    "# Make sure to label your axes\n",
    "\n",
    "..."
   ]
  },
  {
   "cell_type": "markdown",
   "metadata": {},
   "source": [
    "## Scatter Plots Using matplotlib.pyplot\n",
    "\n",
    "Scatter plots of bivariate data can be plotted using the [`plt.scatter()`](https://matplotlib.org/stable/api/_as_gen/matplotlib.pyplot.scatter.html) function.\n",
    "\n",
    "You can control the marker shape, size, fill color, edge color and many more. Click on the function above to read more about some of its parameters.\n",
    "\n",
    "Let's look at an example for data `a` and `b`."
   ]
  },
  {
   "cell_type": "code",
   "execution_count": null,
   "metadata": {},
   "outputs": [],
   "source": [
    "# plt a scatter plot\n",
    "plt.scatter(a,b, color='orange', edgecolors='k') #(x,y)\n",
    "\n",
    "# label axes and add title\n",
    "plt.xlabel('a')\n",
    "plt.ylabel('b')\n",
    "plt.title('Scatterplot of b versus a')\n",
    "\n",
    "# display plot\n",
    "plt.show()"
   ]
  },
  {
   "cell_type": "markdown",
   "metadata": {},
   "source": [
    "### Scatterplot for `bod` and `nit`\n",
    "\n",
    "Make a scatter plot of `bod` (y-axis) versus `nit` (x-axis).\n",
    "\n",
    "Make sure to correctly label the axes.\n",
    "\n",
    "<font color='red'>**Question 17.**</font> Based on your scatter plot, what you can you tell about the association between BOD and nitrate measurements (positive, negative, none)? Select your answer form the options in bCourses."
   ]
  },
  {
   "cell_type": "code",
   "execution_count": null,
   "metadata": {},
   "outputs": [],
   "source": [
    "# Add your code below for the scatterplot\n",
    "\n",
    "..."
   ]
  },
  {
   "cell_type": "markdown",
   "metadata": {},
   "source": [
    "## Submit your work!"
   ]
  },
  {
   "cell_type": "markdown",
   "metadata": {},
   "source": [
    "<font color='red'>**Question 18.** </font> Submit your PDF file.\n",
    "\n",
    "I recommend that you save your .ipynb file and keep a copy of it so that you can refer to it in the future (e.g., when working on the project). \n",
    "\n",
    "Once done with answering ALL questions and you are ready to submit the quiz, follow these steps:\n",
    "\n",
    "1. Run all cells in the notebook. You can do this by going to Cell > Run All. This makes sure that all your visuals and answers show up in the file you submit.\n",
    "\n",
    "2. Then, go to \"File > Download as > PDF via LaTex(.pdf)\" to generate a PDF file. Name the PDF file with your last name \"Lastname.pdf\". \n",
    "\n",
    "3. If you have trouble generating the PDF file, go to \"File > Download as > PDF via HTML(.html)\" (last option in the drop down menu). Even if you click on PDF via HTML(.html), make sure that the downloaded file is '.pdf'.\n",
    "\n",
    "3. If you are using your own Python environment and are have trouble generating the PDF file from Jupyter notebook, use [datahub.berkeley.edu](http://datahub.berkeley.edu). Log in with your CalNet credentials. Upload the ipynb file with your outputs and results to Juptrer. Then follow step 2.\n",
    "\n",
    "4. Upload the PDF file to the bCourses quiz (more instructions there).\n",
    "\n",
    "\n",
    "**Not submitting a PDF file will result in a grade of 0 on this lab assignment.**\n",
    "**You will also receive a 0 if your answers to this quiz are inconsistent with your PDF.**"
   ]
  }
 ],
 "metadata": {
  "kernelspec": {
   "display_name": "Python 3 (ipykernel)",
   "language": "python",
   "name": "python3"
  },
  "language_info": {
   "codemirror_mode": {
    "name": "ipython",
    "version": 3
   },
   "file_extension": ".py",
   "mimetype": "text/x-python",
   "name": "python",
   "nbconvert_exporter": "python",
   "pygments_lexer": "ipython3",
   "version": "3.9.12"
  },
  "toc": {
   "base_numbering": 1,
   "nav_menu": {},
   "number_sections": true,
   "sideBar": true,
   "skip_h1_title": true,
   "title_cell": "Table of Contents",
   "title_sidebar": "Contents",
   "toc_cell": true,
   "toc_position": {},
   "toc_section_display": true,
   "toc_window_display": true
  },
  "varInspector": {
   "cols": {
    "lenName": 16,
    "lenType": 16,
    "lenVar": 40
   },
   "kernels_config": {
    "python": {
     "delete_cmd_postfix": "",
     "delete_cmd_prefix": "del ",
     "library": "var_list.py",
     "varRefreshCmd": "print(var_dic_list())"
    },
    "r": {
     "delete_cmd_postfix": ") ",
     "delete_cmd_prefix": "rm(",
     "library": "var_list.r",
     "varRefreshCmd": "cat(var_dic_list()) "
    }
   },
   "types_to_exclude": [
    "module",
    "function",
    "builtin_function_or_method",
    "instance",
    "_Feature"
   ],
   "window_display": false
  }
 },
 "nbformat": 4,
 "nbformat_minor": 2
}
